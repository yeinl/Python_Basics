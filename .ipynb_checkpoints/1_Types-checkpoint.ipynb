{
 "cells": [
  {
   "cell_type": "markdown",
   "metadata": {},
   "source": [
    "<h1>타입(Types)</h1>\n",
    "<h1>Python - 첫 파이썬 코드 작성하기!</h1>"
   ]
  },
  {
   "cell_type": "markdown",
   "metadata": {},
   "source": [
    "<p><strong>반갑습니다!</strong> 이 노트북을 통해 파이썬 프로그래밍의 기초를 학습하게 될 것입니다. 여기서 제시되는 것은 매우 기초적인 것이지만, 파이썬 코드를 읽고 작성하는 데 있어서 기반을 형성합니다. 이 노트북을 통해 기본 명령어 사용법을 포함한 파이썬 기본을 이해하고, 몇가지 기본 타입(Types) 및 타입에 적용하는 간단한 오퍼레이션 수행법을 이해하게 됩니다.</p> "
   ]
  },
  {
   "cell_type": "markdown",
   "metadata": {},
   "source": [
    "<h2> 목차</h2>\n",
    "<div class=\"alert alert-block alert-info\" style=\"margin-top: 20px\">\n",
    "    <ul>\n",
    "        <li>\n",
    "            <a href=\"#hello\">1. Hello, Python 출력해보기</a>\n",
    "            <ul>\n",
    "                <li><a href=\"version\">사용 중인 파이썬 버전 확인하기</a></li>\n",
    "                <li><a href=\"comments\">Python으로 주석(Comments) 작성하기</a></li>\n",
    "                <li><a href=\"errors\">파이썬 오류(error) 메시지</a></li>\n",
    "                <li><a href=\"python_error\">Python은 코드 실행 전 오류가 발생할지 알고 있을까요?</a></li>\n",
    "                <li><a href=\"exercise\">연습문제 : 처음으로 파이썬 프로그램 만들어보기</a></li>\n",
    "            </ul>\n",
    "        </li>\n",
    "        <li>\n",
    "            <a href=\"#types_objects\">2. Python의 객체 타입(types)</a>\n",
    "            <ul>\n",
    "                <li><a href=\"int\">정수(Integers)</a></li>\n",
    "                <li><a href=\"float\">부동소수점수(Floats)</a></li>\n",
    "                <li><a href=\"convert\">다른 객체 타입으로 변환</a></li>\n",
    "                <li><a href=\"bool\">부울 데이터 타입</a></li>\n",
    "                <li><a href=\"exer_type\">연습문제:타입</a></li>\n",
    "            </ul>\n",
    "        </li>\n",
    "        <li>\n",
    "            <a href=\"#expressions\">표현식(Expressions)과 변수(Variables)</a>\n",
    "            <ul>\n",
    "                <li><a href=\"exp\">표현식(Expressions)</a></li>\n",
    "                <li><a href=\"exer_exp\">연습문제: 표현식</a></li>\n",
    "                <li><a href=\"var\">변수(Variables)</a></li>\n",
    "                <li><a href=\"exer_exp_var\">연습문제: 파이썬에서의 표현식과 변수</a></li>\n",
    "            </ul>\n",
    "        </li>\n",
    "    </ul>\n",
    "</div>\n",
    "\n",
    "<hr>"
   ]
  },
  {
   "cell_type": "markdown",
   "metadata": {},
   "source": [
    "<h2 id=\"hello\" align=center>1. Hello, Python 출력해보기</h2>"
   ]
  },
  {
   "cell_type": "markdown",
   "metadata": {},
   "source": [
    "프로그래밍 세계에서는 새로운 프로그래밍 언어를 배울 때 \"hello world\" 부터 시작하는 것이 일반적인 관례입니다. 이러한 간단한 코드 한 줄을 실행해보는 것으로, 파이썬에서의 문자열(string) 출력 방법과 노트북 셀 내에서 코드 실행 방법을 이해하게 됩니다."
   ]
  },
  {
   "cell_type": "markdown",
   "metadata": {},
   "source": [
    "<hr/>\n",
    "<div class=\"alert alert-success alertsuccess\" style=\"margin-top: 20px\">\n",
    "[팁]: 아래와 같은, 셀 내의 파이썬 코드를 실행하고자 할 경우 셀을 클릭한 상태에서 <kbd>Shift</kbd> + <kbd>Enter</kbd>를 누르시기 바랍니다.\n",
    "</div>\n",
    "<hr/>"
   ]
  },
  {
   "cell_type": "code",
   "execution_count": 1,
   "metadata": {},
   "outputs": [
    {
     "name": "stdout",
     "output_type": "stream",
     "text": [
      "Hello, Python!\n"
     ]
    }
   ],
   "source": [
    "# 이제 여러분의 첫번째 파이썬 코드로 Hello, Python을 출력해봅시다\n",
    "\n",
    "print('Hello, Python!')"
   ]
  },
  {
   "cell_type": "markdown",
   "metadata": {},
   "source": [
    "위의 셀을 실행하면 Python이 <code> Hello, Python! </code>을 출력하는 것을 볼 수 있습니다. 첫 번째 Python 코드 실행을 축하합니다!<br>"
   ]
  },
  {
   "cell_type": "markdown",
   "metadata": {},
   "source": [
    "<hr/>\n",
    "<div class=\"alert alert-success alertsuccess\" style=\"margin-top: 20px\">\n",
    "    [팁:] <code> print () </code>는 함수입니다. <code>'Hello, Python!'</code> 인자(argument)로 문자열(string)을 전달하여 출력할 내용을 지시합니다.\n",
    "</div>\n",
    "<hr/>"
   ]
  },
  {
   "cell_type": "markdown",
   "metadata": {},
   "source": [
    "<h3 id=\"version\">사용 중인 파이썬 버전 확인하기</h3>"
   ]
  },
  {
   "cell_type": "markdown",
   "metadata": {},
   "source": [
    "<p>\n",
    "    현재 사용중인 Python 프로그래밍 언어에는 Python 2와 Python 3의 두 가지 인기있는 버전이 있습니다. Python 커뮤니티는 Python 2에서 Python 3으로 이동하기로 결정했으며 많은 인기 라이브러리에서 더 이상 Python 2를 지원하지 않을 것이라고 발표했습니다.\n",
    "</p>\n",
    "<p>\n",
    "    Python 3가 미래인 관계로 이 과정에서는 Python3만을 사용합니다. 노트북이 Python 3 런타임에 의해 실행되는지 어떻게 알 수 있을까요? 노트북의 오른쪽 상단에서 \"Python 3\"을 확인하시면 됩니다.\n",
    "</p>\n",
    "<p>\n",
    "    또 다음 파이썬 명령어로 버전이 무엇인지 확인할 수 있습니다. 다음 코드를 실행 해보세요:\n",
    "</p>"
   ]
  },
  {
   "cell_type": "code",
   "execution_count": 2,
   "metadata": {},
   "outputs": [
    {
     "name": "stdout",
     "output_type": "stream",
     "text": [
      "3.9.7 (default, Sep 16 2021, 08:50:36) \n",
      "[Clang 10.0.0 ]\n"
     ]
    }
   ],
   "source": [
    "# 파이썬 버전 검사\n",
    "\n",
    "import sys\n",
    "print(sys.version)"
   ]
  },
  {
   "cell_type": "markdown",
   "metadata": {},
   "source": [
    "<hr/>\n",
    "<div class=\"alert alert-success alertsuccess\" style=\"margin-top: 20px\">\n",
    "    [팁:] <code> sys </code>는 사용중인 Python 버전 등 시스템 고유 매개변수와 함수를 포함하는 내장 모듈입니다. 사용 전 명시적으로 <code> import </code>해야 합니다.\n",
    "</div>\n",
    "<hr/>"
   ]
  },
  {
   "cell_type": "markdown",
   "metadata": {},
   "source": [
    "<h3 id=\"comments\">Python으로 주석(Comments) 작성하기</h3>"
   ]
  },
  {
   "cell_type": "markdown",
   "metadata": {},
   "source": [
    "<p>\n",
    "    코드 작성 뿐 아니라 항상 코드에 주석을 다는 것이 좋습니다. 주석은 다른 사람들이 코드를 이해하는 데 도움을 줍니다(즉, 주어진 코드 조각을 작성한 이유). 또한, <strong> 다른 사람이 </strong>코드를 이해하는 데 도움이 될 뿐만 아니라 몇 주 또는 몇 달 후 다시 코드를 봤을 때<strong> 여러분 자신이</strong> 이해하는 데도 도움이 됩니다. \n",
    "</p>\n",
    "\n",
    "<p>\n",
    "    Python으로 주석을 작성하려면 주석 작성 전 <code> # </ code>를 사용하십시오. 파이썬은 코드를 실행시 해당 줄에서 <code> # </code> 이후의 모든 것은 무시합니다.\n",
    "</p>"
   ]
  },
  {
   "cell_type": "code",
   "execution_count": 3,
   "metadata": {},
   "outputs": [
    {
     "name": "stdout",
     "output_type": "stream",
     "text": [
      "Hello, Python!\n"
     ]
    }
   ],
   "source": [
    "# 주석 작성 연습하기\n",
    "print('Hello, Python!') #이 줄은 문자열을 인쇄합니다\n",
    "\n",
    "# print('Hi')"
   ]
  },
  {
   "cell_type": "markdown",
   "metadata": {},
   "source": [
    "<p>\n",
    "    위의 셀을 실행하면 <code>#이 줄은 문자열을 인쇄합니다</code>가 주석 처리(따라서 Python에서 무시됨)되었기 때문에 출력에 나타나지 않았음을 알 수 있습니다.\n",
    "</p>\n",
    "<p>\n",
    "    두 번째 줄도 실행되지 않았습니다. <code> print ('Hi') </code> 앞에 (<code> # </code>)이 있기 때문입니다! 이것은 프로그래머가 의도적으로 코드가 실행되지않도록 <em> 주석 처리 </em>했다고 말할 수 있습니다.\n",
    "</p>"
   ]
  },
  {
   "cell_type": "markdown",
   "metadata": {},
   "source": [
    "<h3 id=\"errors\">파이썬 오류(error) 메시지</h3>"
   ]
  },
  {
   "cell_type": "markdown",
   "metadata": {},
   "source": [
    "<p> 누구나 실수를합니다. 많은 유형의 실수에 대해 Python은 오류 메시지를 제공하여 실수 했다고 알려줍니다. 오류 메시지를 주의 깊게 읽고 실수를 한 부분과 이를 수정하는 방법을 이해하는 것이 중요합니다. </ p>\n",
    "<p> 예를 들어 <code> print </code>를 <code> frint </code>로 입력하면 Python은 오류 메시지를 표시합니다. 다음 코드를 실행해보세요: </ p>"
   ]
  },
  {
   "cell_type": "code",
   "execution_count": 4,
   "metadata": {},
   "outputs": [
    {
     "ename": "NameError",
     "evalue": "name 'frint' is not defined",
     "output_type": "error",
     "traceback": [
      "\u001b[0;31m---------------------------------------------------------------------------\u001b[0m",
      "\u001b[0;31mNameError\u001b[0m                                 Traceback (most recent call last)",
      "\u001b[0;32m/var/folders/n3/bz2mm1yd4zxfg43xl_hldsc80000gn/T/ipykernel_29437/1432567000.py\u001b[0m in \u001b[0;36m<module>\u001b[0;34m\u001b[0m\n\u001b[1;32m      1\u001b[0m \u001b[0;31m# 문자열 인쇄 시도시 오류 메세지 발생\u001b[0m\u001b[0;34m\u001b[0m\u001b[0;34m\u001b[0m\u001b[0m\n\u001b[1;32m      2\u001b[0m \u001b[0;34m\u001b[0m\u001b[0m\n\u001b[0;32m----> 3\u001b[0;31m \u001b[0mfrint\u001b[0m\u001b[0;34m(\u001b[0m\u001b[0;34m\"Hello, Python!\"\u001b[0m\u001b[0;34m)\u001b[0m\u001b[0;34m\u001b[0m\u001b[0;34m\u001b[0m\u001b[0m\n\u001b[0m",
      "\u001b[0;31mNameError\u001b[0m: name 'frint' is not defined"
     ]
    }
   ],
   "source": [
    "# 문자열 인쇄 시도시 오류 메세지 발생\n",
    "\n",
    "frint(\"Hello, Python!\")"
   ]
  },
  {
   "cell_type": "markdown",
   "metadata": {},
   "source": [
    "<p> 오류 메시지는 다음을 알려줍니다.\n",
    "<ol>\n",
    "    <li> 오류가 발생한 위치 (노트북 셀 또는 스크립트에서 믾은 코드가 있을 경우 더 유용)</li>\n",
    "    <li> 어떤 종류의 오류인지(NameError) </ li>\n",
    "</ ol>\n",
    "<p> 여기서 Python은 <code> frint </code> 함수를 실행하려고 시도했지만 <code> frint </code>가 내장 함수가 아닐 뿐 아니라 여러분이 사전에 정의한 것도 아니기 때문에 PYthon은 무엇인지 알 수 없습니다. </ p>"
   ]
  },
  {
   "cell_type": "markdown",
   "metadata": {},
   "source": [
    "<p>\n",
    "    문자열을 괄호로 닫는 것을 잊는 것과 같이 다른 유형의 실수를 범하면 다른 오류(예 : <code> SyntaxError </code>)가 발생합니다. 아래에서 시도해보십시오.\n",
    "</ p>"
   ]
  },
  {
   "cell_type": "code",
   "execution_count": 8,
   "metadata": {},
   "outputs": [
    {
     "name": "stdout",
     "output_type": "stream",
     "text": [
      "Hello, Python!\n"
     ]
    }
   ],
   "source": [
    "# 발생되는 오류 메시지를 보세요\n",
    "\n",
    "print(\"Hello, Python!)"
   ]
  },
  {
   "cell_type": "markdown",
   "metadata": {},
   "source": [
    "<h3 id = \"python_error\">Python은 코드 실행 전 오류가 발생할지 알고 있을까요? </h3>"
   ]
  },
  {
   "cell_type": "markdown",
   "metadata": {},
   "source": [
    "Python은 <em> 인터프리터 언어</em>입니다. 컴파일 언어는 컴파일 시 전체 프로그램 코드를 검사하고 실행 전 전체 오류 클래스에 대해 미리 경고할 수  있습니다. 그러나 인터프리터 언어인 Python은 스크립트 실행시 한 줄씩 해석하게 됩니다. (과정 후반에서 다룰 고급 주제로, 오류가 예상되어 프로그래머가 해당 오류를 처리하지 않는 다면) Python은 오류 발생시 전체 프로그램 실행을 중지합니다."
   ]
  },
  {
   "cell_type": "markdown",
   "metadata": {},
   "source": [
    "아래 셀에서 코드를 실행하고 어떤 일이 발생하는지 확인하십시오."
   ]
  },
  {
   "cell_type": "code",
   "execution_count": 6,
   "metadata": {},
   "outputs": [
    {
     "name": "stdout",
     "output_type": "stream",
     "text": [
      "This will be printed\n"
     ]
    },
    {
     "ename": "NameError",
     "evalue": "name 'frint' is not defined",
     "output_type": "error",
     "traceback": [
      "\u001b[0;31m---------------------------------------------------------------------------\u001b[0m",
      "\u001b[0;31mNameError\u001b[0m                                 Traceback (most recent call last)",
      "\u001b[0;32m/var/folders/n3/bz2mm1yd4zxfg43xl_hldsc80000gn/T/ipykernel_29437/576387774.py\u001b[0m in \u001b[0;36m<module>\u001b[0;34m\u001b[0m\n\u001b[1;32m      2\u001b[0m \u001b[0;34m\u001b[0m\u001b[0m\n\u001b[1;32m      3\u001b[0m \u001b[0mprint\u001b[0m\u001b[0;34m(\u001b[0m\u001b[0;34m\"This will be printed\"\u001b[0m\u001b[0;34m)\u001b[0m\u001b[0;34m\u001b[0m\u001b[0;34m\u001b[0m\u001b[0m\n\u001b[0;32m----> 4\u001b[0;31m \u001b[0mfrint\u001b[0m\u001b[0;34m(\u001b[0m\u001b[0;34m\"This will cause an error\"\u001b[0m\u001b[0;34m)\u001b[0m\u001b[0;34m\u001b[0m\u001b[0;34m\u001b[0m\u001b[0m\n\u001b[0m\u001b[1;32m      5\u001b[0m \u001b[0mprint\u001b[0m\u001b[0;34m(\u001b[0m\u001b[0;34m\"This will NOT be printed\"\u001b[0m\u001b[0;34m)\u001b[0m\u001b[0;34m\u001b[0m\u001b[0;34m\u001b[0m\u001b[0m\n\u001b[1;32m      6\u001b[0m \u001b[0;34m\u001b[0m\u001b[0m\n",
      "\u001b[0;31mNameError\u001b[0m: name 'frint' is not defined"
     ]
    }
   ],
   "source": [
    "# 문자열 및 오류가 발생하도록 출력하여 실행순서를 확인하시기 바랍니다. \n",
    "\n",
    "print(\"This will be printed\")\n",
    "frint(\"This will cause an error\")\n",
    "print(\"This will NOT be printed\")\n",
    "\n",
    "# 두번째 줄에서 오류가 나면, 그 이후줄도 전부 실행이 되지 않음 (-> 파이썬은 스크립트 언어로써 한 줄 한 줄 실행한다는 것을 알 수 있음)"
   ]
  },
  {
   "cell_type": "markdown",
   "metadata": {},
   "source": [
    "<h3 id = \"exercise\"> 연습문제 : 처음으로 파이썬 프로그램 만들어보기</h3>"
   ]
  },
  {
   "cell_type": "markdown",
   "metadata": {},
   "source": [
    "<p> 전통적으로 프로그래머들은 간단한 \"Hello, world!\" 출력으로 코드 개발을 시작합니다. 여러분도 한 번 해보시기 바랍니다. </p>\n",
    "<p> 아래 코드 셀에서 <code>print()</code> 함수를 사용하여 <code>Hello, world!</code> </p> 구문을 출력해봅시다."
   ]
  },
  {
   "cell_type": "code",
   "execution_count": 10,
   "metadata": {},
   "outputs": [
    {
     "name": "stdout",
     "output_type": "stream",
     "text": [
      "Hello, world!\n"
     ]
    }
   ],
   "source": [
    "# 아래에 코드를 작성하고 Shift + Enter를 눌러 실행하십시오.\n",
    "print(\"Hello, world!\")"
   ]
  },
  {
   "cell_type": "markdown",
   "metadata": {},
   "source": [
    "해답을 보려면 __here__를 두 번 클릭하십시오.\n",
    "\n",
    "<!-- 해답: \n",
    "\n",
    "print(\"Hello, world!\")\n",
    "\n",
    "-->"
   ]
  },
  {
   "cell_type": "markdown",
   "metadata": {},
   "source": [
    "<p> 이제 주석으로 코드를 개선해봅시다. 아래 코드 셀에서 <code>Hello, world!</code>를 출력하고 같은 줄에서 <code>Print the traditional hello world</code> 를 주석으로 처리해보시기 바랍니다. </p>"
   ]
  },
  {
   "cell_type": "code",
   "execution_count": 11,
   "metadata": {},
   "outputs": [
    {
     "name": "stdout",
     "output_type": "stream",
     "text": [
      "Hello, world!\n"
     ]
    }
   ],
   "source": [
    "# 아래에 코드를 작성하고 Shift + Enter를 눌러 실행하십시오.\n",
    "print(\"Hello, world!\") # Print thge traditional hello world"
   ]
  },
  {
   "cell_type": "markdown",
   "metadata": {},
   "source": [
    "해답을 보려면 __here__를 두 번 클릭하십시오.\n",
    "\n",
    "<!-- 해답:\n",
    "\n",
    "print(\"Hello, world!\") # Print the traditional hello world\n",
    "\n",
    "-->\n"
   ]
  },
  {
   "cell_type": "markdown",
   "metadata": {},
   "source": [
    "<hr>"
   ]
  },
  {
   "cell_type": "markdown",
   "metadata": {},
   "source": [
    "<h2 id = \"types_objects\" align=center> 2. Python의 객체 타입(types)</h2>"
   ]
  },
  {
   "cell_type": "markdown",
   "metadata": {},
   "source": [
    "<p> Python은 객체 지향 언어입니다. Python에는 다양한 타입의 객체가 있습니다. 가장 일반적인 객체 타입형인 <i> strings </i>, <i>integers</i> 및 <i>floats</i>부터 시작하겠습니다. 여러분이 Python으로 단어(텍스트)를 적게 되면 <i>character strings</i> (줄여서 strings)을 사용합니다. 반면에 가장 일반적인 숫자는 <i>integers</i> (예 : -1, 0, 100)와 <i>floats</i>로 실수(예 : 3.14, -42.0)를 나타냅니다. </p>"
   ]
  },
  {
   "cell_type": "markdown",
   "metadata": {},
   "source": [
    "<a align=\"center\">\n",
    "    <img src=\"https://s3-api.us-geo.objectstorage.softlayer.net/cf-courses-data/CognitiveClass/PY0101EN/Chapter%201/Images/TypesObjects.png\" width=\"600\">\n",
    "</a>"
   ]
  },
  {
   "cell_type": "markdown",
   "metadata": {},
   "source": [
    "<p> 다음 코드 셀에는 몇 가지 예가 포함되어 있습니다. </p>"
   ]
  },
  {
   "cell_type": "code",
   "execution_count": 6,
   "metadata": {},
   "outputs": [
    {
     "data": {
      "text/plain": [
       "11"
      ]
     },
     "execution_count": 6,
     "metadata": {},
     "output_type": "execute_result"
    }
   ],
   "source": [
    "# Integer (정수형)\n",
    "\n",
    "11"
   ]
  },
  {
   "cell_type": "code",
   "execution_count": 7,
   "metadata": {},
   "outputs": [
    {
     "data": {
      "text/plain": [
       "2.14"
      ]
     },
     "execution_count": 7,
     "metadata": {},
     "output_type": "execute_result"
    }
   ],
   "source": [
    "# Float (실수형)\n",
    "\n",
    "2.14"
   ]
  },
  {
   "cell_type": "code",
   "execution_count": 15,
   "metadata": {},
   "outputs": [
    {
     "data": {
      "text/plain": [
       "'Hello, Python 101!'"
      ]
     },
     "execution_count": 15,
     "metadata": {},
     "output_type": "execute_result"
    }
   ],
   "source": [
    "# String (문자형)\n",
    "\n",
    "\"Hello, Python 101!\""
   ]
  },
  {
   "cell_type": "markdown",
   "metadata": {},
   "source": [
    "<p> 내장 <code>type()</code> 함수를 사용하여 Python이 표현식(expression)의 타입을 알려줄 수 있습니다. Python에서는 정수를 <code>int</code>로, 부동 소수점수(float)는 <code>float</code>로, 문자열은 <code>str</code>로 참조합니다. </p>"
   ]
  },
  {
   "cell_type": "code",
   "execution_count": 9,
   "metadata": {},
   "outputs": [
    {
     "data": {
      "text/plain": [
       "int"
      ]
     },
     "execution_count": 9,
     "metadata": {},
     "output_type": "execute_result"
    }
   ],
   "source": [
    "# 12의 타입\n",
    "\n",
    "type(12)"
   ]
  },
  {
   "cell_type": "code",
   "execution_count": 13,
   "metadata": {},
   "outputs": [
    {
     "data": {
      "text/plain": [
       "float"
      ]
     },
     "execution_count": 13,
     "metadata": {},
     "output_type": "execute_result"
    }
   ],
   "source": [
    "# 2.14의 타입\n",
    "\n",
    "type(2.14)"
   ]
  },
  {
   "cell_type": "code",
   "execution_count": 14,
   "metadata": {},
   "outputs": [
    {
     "data": {
      "text/plain": [
       "str"
      ]
     },
     "execution_count": 14,
     "metadata": {},
     "output_type": "execute_result"
    }
   ],
   "source": [
    "# \"Hello, Python 101!\"의 타입\n",
    "\n",
    "type(\"Hello, Python 101!\")"
   ]
  },
  {
   "cell_type": "markdown",
   "metadata": {},
   "source": [
    "<p> 아래 코드 셀에서 <code>type()</code> 함수를 사용하여 <code>12.0</code>의 객체 타입(type)을 확인해봅시다."
   ]
  },
  {
   "cell_type": "code",
   "execution_count": 7,
   "metadata": {},
   "outputs": [
    {
     "data": {
      "text/plain": [
       "float"
      ]
     },
     "execution_count": 7,
     "metadata": {},
     "output_type": "execute_result"
    }
   ],
   "source": [
    "# 아래에 코드를 작성하세요. 셀을 실행하려면 Shift + Enter를 누르는 것을 잊지 마십시오.\n",
    "type(12.0)"
   ]
  },
  {
   "cell_type": "markdown",
   "metadata": {},
   "source": [
    "해답을 보려면 __here__를 두 번 클릭하십시오.\n",
    "\n",
    "<!-- 해답:\n",
    "\n",
    "type(12.0)\n",
    "\n",
    "-->"
   ]
  },
  {
   "cell_type": "markdown",
   "metadata": {},
   "source": [
    "<h3 id=\"int\">정수(Integers)</h3>"
   ]
  },
  {
   "cell_type": "markdown",
   "metadata": {},
   "source": [
    "<p> 다음은 정수의 몇 가지 예입니다. 정수는 음수 또는 양수일 수 있습니다. </ p>"
   ]
  },
  {
   "cell_type": "markdown",
   "metadata": {},
   "source": [
    "<a align=\"center\">\n",
    "    <img src=\"https://s3-api.us-geo.objectstorage.softlayer.net/cf-courses-data/CognitiveClass/PY0101EN/Chapter%201/Images/TypesInt.png\" width=\"600\">\n",
    "</a>"
   ]
  },
  {
   "cell_type": "markdown",
   "metadata": {},
   "source": [
    "<p> <code>type()</code> 함수를 사용하여 객체 유형을 확인할 수 있습니다."
   ]
  },
  {
   "cell_type": "code",
   "execution_count": 16,
   "metadata": {},
   "outputs": [
    {
     "data": {
      "text/plain": [
       "int"
      ]
     },
     "execution_count": 16,
     "metadata": {},
     "output_type": "execute_result"
    }
   ],
   "source": [
    "# -1의 타입을 출력\n",
    "\n",
    "type(-1)"
   ]
  },
  {
   "cell_type": "code",
   "execution_count": 17,
   "metadata": {},
   "outputs": [
    {
     "data": {
      "text/plain": [
       "int"
      ]
     },
     "execution_count": 17,
     "metadata": {},
     "output_type": "execute_result"
    }
   ],
   "source": [
    "# 4의 타입을 출력\n",
    "\n",
    "type(4)"
   ]
  },
  {
   "cell_type": "code",
   "execution_count": 18,
   "metadata": {},
   "outputs": [
    {
     "data": {
      "text/plain": [
       "int"
      ]
     },
     "execution_count": 18,
     "metadata": {},
     "output_type": "execute_result"
    }
   ],
   "source": [
    "# 0의 타입을 출력\n",
    "\n",
    "type(0)"
   ]
  },
  {
   "cell_type": "markdown",
   "metadata": {},
   "source": [
    "<h3 id=\"float\">부동 소수점수(Floats)</h3> "
   ]
  },
  {
   "cell_type": "markdown",
   "metadata": {},
   "source": [
    "<p> Floats는 실수를 나타냅니다. Floats는 정수 및 \"소숫점을 가진 숫자\"도 포함합니다. 컴퓨터에서 실수를 나타내는 방식에 몇 가지 제한이 있지만 대부분의 경우 부동 소수점 숫자가 좋은 표현 방법입니다. <code>sys.float_info</code>의 값 확인으로 런타임 환경에 대한 부동 소숫점의 세부 사항에 대해 자세히 알아볼 수 있습니다. 또한 표시할 수있는 가장 큰 숫자와 가장 작은 숫자가 무엇인지 알수 있습니다. </ p>\n",
    "\n",
    "<p> <code>type()</code> 함수로 몇 가지 예를 테스트 해봅시다."
   ]
  },
  {
   "cell_type": "code",
   "execution_count": 19,
   "metadata": {},
   "outputs": [
    {
     "data": {
      "text/plain": [
       "float"
      ]
     },
     "execution_count": 19,
     "metadata": {},
     "output_type": "execute_result"
    }
   ],
   "source": [
    "# 1.0의 타입 출력\n",
    "\n",
    "type(1.0) # 1은 정수(int)이며, 1.0은 float"
   ]
  },
  {
   "cell_type": "code",
   "execution_count": 20,
   "metadata": {},
   "outputs": [
    {
     "data": {
      "text/plain": [
       "float"
      ]
     },
     "execution_count": 20,
     "metadata": {},
     "output_type": "execute_result"
    }
   ],
   "source": [
    "# 0.5의 타입 출력\n",
    "\n",
    "type(0.5)"
   ]
  },
  {
   "cell_type": "code",
   "execution_count": 21,
   "metadata": {},
   "outputs": [
    {
     "data": {
      "text/plain": [
       "float"
      ]
     },
     "execution_count": 21,
     "metadata": {},
     "output_type": "execute_result"
    }
   ],
   "source": [
    "# 0.56의 타입 출력\n",
    "\n",
    "type(0.56)"
   ]
  },
  {
   "cell_type": "code",
   "execution_count": 22,
   "metadata": {},
   "outputs": [
    {
     "data": {
      "text/plain": [
       "sys.float_info(max=1.7976931348623157e+308, max_exp=1024, max_10_exp=308, min=2.2250738585072014e-308, min_exp=-1021, min_10_exp=-307, dig=15, mant_dig=53, epsilon=2.220446049250313e-16, radix=2, rounds=1)"
      ]
     },
     "execution_count": 22,
     "metadata": {},
     "output_type": "execute_result"
    }
   ],
   "source": [
    "#float타입에 대한 시스템 설정\n",
    "\n",
    "sys.float_info"
   ]
  },
  {
   "cell_type": "markdown",
   "metadata": {},
   "source": [
    "<h3 id = \"convert\">다른 객체 타입으로 변환</ h3>"
   ]
  },
  {
   "cell_type": "markdown",
   "metadata": {},
   "source": [
    "<p> 파이썬에서 객체의 타입을 변경할 수 있습니다. 이것을 타입 캐스팅이라고합니다. 예를 들어 <i>integer</i>를 <i>float</i>로 변환할 수 있습니다 (예 : 2에서 2.0으로). </p>\n",
    "<p>해보자!!:</p>"
   ]
  },
  {
   "cell_type": "code",
   "execution_count": 23,
   "metadata": {},
   "outputs": [
    {
     "data": {
      "text/plain": [
       "int"
      ]
     },
     "execution_count": 23,
     "metadata": {},
     "output_type": "execute_result"
    }
   ],
   "source": [
    "# 정수인지 확인하십시오.\n",
    "\n",
    "type(2)"
   ]
  },
  {
   "cell_type": "markdown",
   "metadata": {},
   "source": [
    "<h4> 정수를 실수로 변환 </ h4>\n",
    "<p> 정수 2를 float로 타입 캐스트 즉 타입 변환해 보겠습니다. </p>"
   ]
  },
  {
   "cell_type": "code",
   "execution_count": 24,
   "metadata": {},
   "outputs": [
    {
     "data": {
      "text/plain": [
       "2.0"
      ]
     },
     "execution_count": 24,
     "metadata": {},
     "output_type": "execute_result"
    }
   ],
   "source": [
    "# 2를 float로 변환\n",
    "\n",
    "float(2)"
   ]
  },
  {
   "cell_type": "code",
   "execution_count": 25,
   "metadata": {},
   "outputs": [
    {
     "data": {
      "text/plain": [
       "float"
      ]
     },
     "execution_count": 25,
     "metadata": {},
     "output_type": "execute_result"
    }
   ],
   "source": [
    "# 정수 2를 float로 변환하고 타입을 확인하십시오.\n",
    "\n",
    "type(float(2))"
   ]
  },
  {
   "cell_type": "markdown",
   "metadata": {},
   "source": [
    "<p> 정수를 실수로 변환할 때 실제로 숫자의 값 (즉, 유효값)을 변경하지 않습니다. 그러나 float를 정수로 타입 캐스트하면 잠재적으로 일부 정보가 손실 될 수 있습니다. 예를 들어 float 1.1을 정수로 캐스트하면 1을 얻고 소수 정보 (즉, 0.1)를 잃게됩니다. </ p>"
   ]
  },
  {
   "cell_type": "code",
   "execution_count": 27,
   "metadata": {},
   "outputs": [
    {
     "data": {
      "text/plain": [
       "40"
      ]
     },
     "execution_count": 27,
     "metadata": {},
     "output_type": "execute_result"
    }
   ],
   "source": [
    "# 1.1을 정수로 변환하면 정보가 손실됩니다. \n",
    "int(1.1)\n",
    "int(40.9)"
   ]
  },
  {
   "cell_type": "markdown",
   "metadata": {},
   "source": [
    "<h4> string에서 정수(int) 또는 부동 소수점(float)으로 변환 </h4>"
   ]
  },
  {
   "cell_type": "markdown",
   "metadata": {},
   "source": [
    "<p> 때로는 숫자가 포함된 문자열이 있을 수 있습니다. 이 경우 <code> int() </code>를 사용하여 숫자를 나타내는 문자열을 정수로 변환할 수 있습니다. </p>"
   ]
  },
  {
   "cell_type": "code",
   "execution_count": 28,
   "metadata": {},
   "outputs": [
    {
     "data": {
      "text/plain": [
       "1"
      ]
     },
     "execution_count": 28,
     "metadata": {},
     "output_type": "execute_result"
    }
   ],
   "source": [
    "# 문자열(string)을 정수(integer)로 변환\n",
    "\n",
    "int('1')"
   ]
  },
  {
   "cell_type": "markdown",
   "metadata": {},
   "source": [
    "<p>하지만 숫자와 완벽하게 일치하지 않는 문자열을 사용하려고하면 오류가 발생합니다. 다음을 시도하십시오. </p>"
   ]
  },
  {
   "cell_type": "code",
   "execution_count": 29,
   "metadata": {},
   "outputs": [
    {
     "ename": "ValueError",
     "evalue": "invalid literal for int() with base 10: '1 or 2 people'",
     "output_type": "error",
     "traceback": [
      "\u001b[1;31m---------------------------------------------------------------------------\u001b[0m",
      "\u001b[1;31mValueError\u001b[0m                                Traceback (most recent call last)",
      "\u001b[1;32m<ipython-input-29-1de2d34329a4>\u001b[0m in \u001b[0;36m<module>\u001b[1;34m\u001b[0m\n\u001b[0;32m      1\u001b[0m \u001b[1;31m# 문자열을 정수로 변환시 오류 발생\u001b[0m\u001b[1;33m\u001b[0m\u001b[1;33m\u001b[0m\u001b[1;33m\u001b[0m\u001b[0m\n\u001b[0;32m      2\u001b[0m \u001b[1;33m\u001b[0m\u001b[0m\n\u001b[1;32m----> 3\u001b[1;33m \u001b[0mint\u001b[0m\u001b[1;33m(\u001b[0m\u001b[1;34m'1 or 2 people'\u001b[0m\u001b[1;33m)\u001b[0m\u001b[1;33m\u001b[0m\u001b[1;33m\u001b[0m\u001b[0m\n\u001b[0m",
      "\u001b[1;31mValueError\u001b[0m: invalid literal for int() with base 10: '1 or 2 people'"
     ]
    }
   ],
   "source": [
    "# 문자열을 정수로 변환시 오류 발생\n",
    "\n",
    "int('1 or 2 people')"
   ]
  },
  {
   "cell_type": "markdown",
   "metadata": {},
   "source": [
    "<p> 부동 소수점 숫자를 포함하는 문자열을 <i> float </ i> 객체로 변환할 수도 있습니다. </ p>"
   ]
  },
  {
   "cell_type": "code",
   "execution_count": 8,
   "metadata": {},
   "outputs": [
    {
     "data": {
      "text/plain": [
       "34.38"
      ]
     },
     "execution_count": 8,
     "metadata": {},
     "output_type": "execute_result"
    }
   ],
   "source": [
    "# 문자열 \"1.2\"를 float로 변환\n",
    "\n",
    "#float('1.2')\n",
    "float(\"34.38\")\n",
    "#float('100.38\") # 에러 발생 #따옴표 통일하기"
   ]
  },
  {
   "cell_type": "markdown",
   "metadata": {},
   "source": [
    "<hr/>\n",
    "<div class=\"alert alert-success alertsuccess\" style=\"margin-top: 20px\">\n",
    "    [팁]문자열은 작은 따옴표 (<code> '1.2'</code>) 또는 큰 따옴표 (<code> \"1.2\"</code>)로 표시할 수 있지만 두개 모드를 혼합하여 사용할 수는 없습니다 (예: , <code>\"1.2 '</code>).\n",
    "</div>\n",
    "<hr/>"
   ]
  },
  {
   "cell_type": "markdown",
   "metadata": {},
   "source": [
    "<h4>숫자를 문자열(string)로 변환 </h4>"
   ]
  },
  {
   "cell_type": "markdown",
   "metadata": {},
   "source": [
    "<p> 문자열을 숫자로 변환할 수 있다면 숫자를 문자열로 변환 할 수 있다고 가정하는 것은 당연하겠죠? </p>"
   ]
  },
  {
   "cell_type": "code",
   "execution_count": 34,
   "metadata": {},
   "outputs": [
    {
     "data": {
      "text/plain": [
       "'1'"
      ]
     },
     "execution_count": 34,
     "metadata": {},
     "output_type": "execute_result"
    }
   ],
   "source": [
    "# 정수(integer)를 문자열(string)로 변환\n",
    "\n",
    "str(1)"
   ]
  },
  {
   "cell_type": "markdown",
   "metadata": {},
   "source": [
    "<p>그리고 float를 문자열(string)로 만들지 못할 이유도 없습니다: </ p>"
   ]
  },
  {
   "cell_type": "code",
   "execution_count": 35,
   "metadata": {},
   "outputs": [
    {
     "data": {
      "text/plain": [
       "'1.2'"
      ]
     },
     "execution_count": 35,
     "metadata": {},
     "output_type": "execute_result"
    }
   ],
   "source": [
    "# float를 문자열(string)으로 변환\n",
    "\n",
    "str(1.2)"
   ]
  },
  {
   "cell_type": "code",
   "execution_count": 36,
   "metadata": {},
   "outputs": [
    {
     "data": {
      "text/plain": [
       "str"
      ]
     },
     "execution_count": 36,
     "metadata": {},
     "output_type": "execute_result"
    }
   ],
   "source": [
    "type(str(1))"
   ]
  },
  {
   "cell_type": "code",
   "execution_count": 37,
   "metadata": {},
   "outputs": [
    {
     "data": {
      "text/plain": [
       "str"
      ]
     },
     "execution_count": 37,
     "metadata": {},
     "output_type": "execute_result"
    }
   ],
   "source": [
    "type(str(1.2))"
   ]
  },
  {
   "cell_type": "markdown",
   "metadata": {},
   "source": [
    "<h3 id=\"bool\">Boolean 데이터 타입</h3>"
   ]
  },
  {
   "cell_type": "markdown",
   "metadata": {},
   "source": [
    "<p> <i>부울(Boolean)</i>은 Python의 또 다른 중요한 타입니다. <i>부울(Boolean_</i> 타입 객체는 <code>True</code> 또는 <code>False</code>의 값 중 하나를 취할 수 있습니다.</p>"
   ]
  },
  {
   "cell_type": "code",
   "execution_count": 41,
   "metadata": {},
   "outputs": [
    {
     "data": {
      "text/plain": [
       "True"
      ]
     },
     "execution_count": 41,
     "metadata": {},
     "output_type": "execute_result"
    }
   ],
   "source": [
    "# true 값\n",
    "\n",
    "True\n",
    "True"
   ]
  },
  {
   "cell_type": "markdown",
   "metadata": {},
   "source": [
    "<p> <code>True</code>가 대문자 \"T\"인 것에 주의하십시오. <code>False</code>도 마찬가지입니다 (즉, 대문자 \"F\"를 사용해야 함).</p>"
   ]
  },
  {
   "cell_type": "code",
   "execution_count": 39,
   "metadata": {},
   "outputs": [
    {
     "data": {
      "text/plain": [
       "False"
      ]
     },
     "execution_count": 39,
     "metadata": {},
     "output_type": "execute_result"
    }
   ],
   "source": [
    "# false 값\n",
    "\n",
    "False"
   ]
  },
  {
   "cell_type": "markdown",
   "metadata": {},
   "source": [
    "<p>Python에게 부울 객체의 타입을 표시하도록 요청하면 <i>boolean</i>을 나타내는 <code>bool</code>이 표시됩니다. </p>"
   ]
  },
  {
   "cell_type": "code",
   "execution_count": 42,
   "metadata": {},
   "outputs": [
    {
     "data": {
      "text/plain": [
       "bool"
      ]
     },
     "execution_count": 42,
     "metadata": {},
     "output_type": "execute_result"
    }
   ],
   "source": [
    "# True의 타입\n",
    "\n",
    "type(True)"
   ]
  },
  {
   "cell_type": "code",
   "execution_count": 43,
   "metadata": {},
   "outputs": [
    {
     "data": {
      "text/plain": [
       "bool"
      ]
     },
     "execution_count": 43,
     "metadata": {},
     "output_type": "execute_result"
    }
   ],
   "source": [
    "# False의 타입\n",
    "\n",
    "type(False)"
   ]
  },
  {
   "cell_type": "markdown",
   "metadata": {},
   "source": [
    "<p> 부울 객체를 다른 데이터 타입으로 타입 캐스팅 할 수 있습니다. 값이 <code>True</code>인 부울을 정수(integer) 또는 부동 소수점(float)으로 캐스트하면 1을 얻습니다. 값이 <code>False</code>인 부울을 정수 또는 부동 소수점으로 캐스팅하면 0이 됩니다. 마찬가지로 1을 부울로 캐스트하면 <code>True</code>가 됩니다. 0을 Boolean으로 캐스트하면 <code>False</ code>가 됩니다. 한 번 시도해 봅시다: </p>"
   ]
  },
  {
   "cell_type": "code",
   "execution_count": 44,
   "metadata": {},
   "outputs": [
    {
     "data": {
      "text/plain": [
       "1"
      ]
     },
     "execution_count": 44,
     "metadata": {},
     "output_type": "execute_result"
    }
   ],
   "source": [
    "# True를 정수(int)로 캐스트\n",
    "\n",
    "int(True)"
   ]
  },
  {
   "cell_type": "code",
   "execution_count": 45,
   "metadata": {},
   "outputs": [
    {
     "data": {
      "text/plain": [
       "True"
      ]
     },
     "execution_count": 45,
     "metadata": {},
     "output_type": "execute_result"
    }
   ],
   "source": [
    "# 1을 부울로 타입 캐스트\n",
    "\n",
    "bool(1)"
   ]
  },
  {
   "cell_type": "code",
   "execution_count": 48,
   "metadata": {},
   "outputs": [
    {
     "data": {
      "text/plain": [
       "True"
      ]
     },
     "execution_count": 48,
     "metadata": {},
     "output_type": "execute_result"
    }
   ],
   "source": [
    "bool(2)"
   ]
  },
  {
   "cell_type": "code",
   "execution_count": 49,
   "metadata": {},
   "outputs": [
    {
     "data": {
      "text/plain": [
       "True"
      ]
     },
     "execution_count": 49,
     "metadata": {},
     "output_type": "execute_result"
    }
   ],
   "source": [
    "bool(100)"
   ]
  },
  {
   "cell_type": "code",
   "execution_count": 9,
   "metadata": {},
   "outputs": [
    {
     "data": {
      "text/plain": [
       "False"
      ]
     },
     "execution_count": 9,
     "metadata": {},
     "output_type": "execute_result"
    }
   ],
   "source": [
    "# 0을 부울로 타입 캐스트\n",
    "\n",
    "bool(0)"
   ]
  },
  {
   "cell_type": "code",
   "execution_count": 47,
   "metadata": {},
   "outputs": [
    {
     "data": {
      "text/plain": [
       "1.0"
      ]
     },
     "execution_count": 47,
     "metadata": {},
     "output_type": "execute_result"
    }
   ],
   "source": [
    "# True를 float로 변환\n",
    "\n",
    "float(True)"
   ]
  },
  {
   "cell_type": "markdown",
   "metadata": {},
   "source": [
    "<h3 id=\"exer_type\"> 연습문제: 타입(Types)</h3>"
   ]
  },
  {
   "cell_type": "markdown",
   "metadata": {},
   "source": [
    "<p> <code>6/2</code> 계산 결과의 타입은 무엇입니까? </ p>"
   ]
  },
  {
   "cell_type": "code",
   "execution_count": 16,
   "metadata": {},
   "outputs": [
    {
     "data": {
      "text/plain": [
       "float"
      ]
     },
     "execution_count": 16,
     "metadata": {},
     "output_type": "execute_result"
    }
   ],
   "source": [
    "# 아래에 코드를 작성하세요. 셀을 실행하려면 Shift + Enter를 누르는 것을 잊지 마십시오.\n",
    "type(6/2) # 결과:실수(왜,,?)"
   ]
  },
  {
   "cell_type": "markdown",
   "metadata": {},
   "source": [
    "해답을 보려면 __here__를 두 번 클릭하십시오.\n",
    "\n",
    "<!-- 해답:\n",
    "type(6/2) # float\n",
    "-->"
   ]
  },
  {
   "cell_type": "markdown",
   "metadata": {},
   "source": [
    "<p> <code>6//2</code>의 결과 타입은 무엇입니까? (이중 슬래시 <code>//</code>에 유의하십시오.) </p>"
   ]
  },
  {
   "cell_type": "code",
   "execution_count": 12,
   "metadata": {},
   "outputs": [
    {
     "data": {
      "text/plain": [
       "int"
      ]
     },
     "execution_count": 12,
     "metadata": {},
     "output_type": "execute_result"
    }
   ],
   "source": [
    "# 아래에 코드를 작성하십시오. 셀을 실행하려면 Shift + Enter를 누르는 것을 잊지 마십시오.\n",
    "type(6//2) # 이중 슬래시는 정수의 나눗셈을 나타내므로 결과의 타입또한 정수"
   ]
  },
  {
   "cell_type": "markdown",
   "metadata": {},
   "source": [
    "해답을 보려면 __here__를 두 번 클릭하십시오.\n",
    "\n",
    "<!-- 해답:\n",
    "type(6//2) # int, 이중 슬래시는 정수 나눗셈을 나타냅니다.  \n",
    "-->"
   ]
  },
  {
   "cell_type": "markdown",
   "metadata": {},
   "source": [
    "<hr>"
   ]
  },
  {
   "cell_type": "markdown",
   "metadata": {},
   "source": [
    "<h2 id=\"expressions\" align=center>3. 표현식(Expression)과 변수(Variables)</h2>"
   ]
  },
  {
   "cell_type": "markdown",
   "metadata": {},
   "source": [
    "<h3 id=\"exp\">표현식(Expressions)</h3>"
   ]
  },
  {
   "cell_type": "markdown",
   "metadata": {},
   "source": [
    "<p> Python 표현식에는 호환되는 타입(예: 정수 및 부동 소수점)간의 연산(operation)이 포함될 수 있습니다. 예를 들어, 여러 숫자를 더하는 것과 같은 기본적인 산술 연산이 포함될 수 있습니다 : </ p>"
   ]
  },
  {
   "cell_type": "code",
   "execution_count": 50,
   "metadata": {},
   "outputs": [
    {
     "data": {
      "text/plain": [
       "160"
      ]
     },
     "execution_count": 50,
     "metadata": {},
     "output_type": "execute_result"
    }
   ],
   "source": [
    "# 덧셈 연산 표현식\n",
    "\n",
    "43 + 60 + 16 + 41"
   ]
  },
  {
   "cell_type": "markdown",
   "metadata": {},
   "source": [
    "<p> 뺄셈 연산자를 사용하여 뺄셈 연산을 수행 할 수 있습니다. 다음의 경우 결과는 음수입니다. </ p>"
   ]
  },
  {
   "cell_type": "code",
   "execution_count": 51,
   "metadata": {},
   "outputs": [
    {
     "data": {
      "text/plain": [
       "-10"
      ]
     },
     "execution_count": 51,
     "metadata": {},
     "output_type": "execute_result"
    }
   ],
   "source": [
    "# 뺄셈 연산 표현식\n",
    "\n",
    "50 - 60"
   ]
  },
  {
   "cell_type": "markdown",
   "metadata": {},
   "source": [
    "<p> *를 사용하여 곱셈을 할 수 있습니다. </p>"
   ]
  },
  {
   "cell_type": "code",
   "execution_count": 52,
   "metadata": {},
   "outputs": [
    {
     "data": {
      "text/plain": [
       "25"
      ]
     },
     "execution_count": 52,
     "metadata": {},
     "output_type": "execute_result"
    }
   ],
   "source": [
    "# 곱셈 연산 표현식\n",
    "\n",
    "5 * 5"
   ]
  },
  {
   "cell_type": "markdown",
   "metadata": {},
   "source": [
    "<p>/로 나누기를 수행 할 수도 있습니다."
   ]
  },
  {
   "cell_type": "code",
   "execution_count": 53,
   "metadata": {},
   "outputs": [
    {
     "data": {
      "text/plain": [
       "5.0"
      ]
     },
     "execution_count": 53,
     "metadata": {},
     "output_type": "execute_result"
    }
   ],
   "source": [
    "# 나눗셈 연산 표현식\n",
    "\n",
    "25 / 5"
   ]
  },
  {
   "cell_type": "code",
   "execution_count": 54,
   "metadata": {},
   "outputs": [
    {
     "data": {
      "text/plain": [
       "4.166666666666667"
      ]
     },
     "execution_count": 54,
     "metadata": {},
     "output_type": "execute_result"
    }
   ],
   "source": [
    "# 나눗셈 연산 표현식\n",
    "\n",
    "25 / 6"
   ]
  },
  {
   "cell_type": "markdown",
   "metadata": {},
   "source": [
    "<p>윗 부분 퀴즈에서 볼 수 있듯이 정수 나누기에 이중 슬래시를 사용할 수 있습니다. 결과는 가장 가까운 정수로 내림처리됩니다. "
   ]
  },
  {
   "cell_type": "code",
   "execution_count": 55,
   "metadata": {},
   "outputs": [
    {
     "data": {
      "text/plain": [
       "5"
      ]
     },
     "execution_count": 55,
     "metadata": {},
     "output_type": "execute_result"
    }
   ],
   "source": [
    "# 정수 나눗셈 연산 표현식\n",
    "\n",
    "25 // 5"
   ]
  },
  {
   "cell_type": "code",
   "execution_count": 56,
   "metadata": {},
   "outputs": [
    {
     "data": {
      "text/plain": [
       "4"
      ]
     },
     "execution_count": 56,
     "metadata": {},
     "output_type": "execute_result"
    }
   ],
   "source": [
    "# 정수 나눗셈 연산 표현식 \n",
    "\n",
    "25 // 6"
   ]
  },
  {
   "cell_type": "markdown",
   "metadata": {},
   "source": [
    "<h3 id=\"exer_exp\">연습문제: 표현식(Expression)</h3>"
   ]
  },
  {
   "cell_type": "markdown",
   "metadata": {},
   "source": [
    "<p>160분이 몇 시간인지 계산하는 표현식을 작성해봅시다."
   ]
  },
  {
   "cell_type": "code",
   "execution_count": null,
   "metadata": {},
   "outputs": [],
   "source": [
    "# 아래에 코드를 작성하십시오. 셀을 실행하려면 Shift + Enter를 누르는 것을 잊지 마십시오.\n"
   ]
  },
  {
   "cell_type": "markdown",
   "metadata": {},
   "source": [
    "해답을 보려면 __here__를 두 번 클릭하십시오.\n",
    "\n",
    "<!-- 해답:\n",
    "160/60 \n",
    "# Or \n",
    "160//60\n",
    "-->"
   ]
  },
  {
   "cell_type": "markdown",
   "metadata": {},
   "source": [
    "<p>Python은 수학적 표현을 평가할 때 일반적으로 인정되는 수학적 규칙을 따릅니다. 다음 예제에서 Python은 곱셈 결과에 30을 더합니다(즉, 120)."
   ]
  },
  {
   "cell_type": "code",
   "execution_count": 57,
   "metadata": {},
   "outputs": [
    {
     "data": {
      "text/plain": [
       "150"
      ]
     },
     "execution_count": 57,
     "metadata": {},
     "output_type": "execute_result"
    }
   ],
   "source": [
    "# 수학적 표현식\n",
    "\n",
    "30 + 2 * 60"
   ]
  },
  {
   "cell_type": "markdown",
   "metadata": {},
   "source": [
    "<p> 그리고 수학에서와 마찬가지로 괄호로 묶인 표현이 우선합니다. 따라서 다음은 32에 60을 곱합니다."
   ]
  },
  {
   "cell_type": "code",
   "execution_count": 58,
   "metadata": {},
   "outputs": [
    {
     "data": {
      "text/plain": [
       "1920"
      ]
     },
     "execution_count": 58,
     "metadata": {},
     "output_type": "execute_result"
    }
   ],
   "source": [
    "# 수학적 표현식\n",
    "\n",
    "(30 + 2) * 60"
   ]
  },
  {
   "cell_type": "markdown",
   "metadata": {},
   "source": [
    "<h3 id=\"var\">변수(Variables)</h3>"
   ]
  },
  {
   "cell_type": "markdown",
   "metadata": {},
   "source": [
    "<p>대부분의 프로그래밍 언어와 마찬가지로 <i>변수</i>에 값을 저장 후 추후 사용할 수 있습니다. 예:</p>"
   ]
  },
  {
   "cell_type": "code",
   "execution_count": 61,
   "metadata": {},
   "outputs": [
    {
     "data": {
      "text/plain": [
       "160"
      ]
     },
     "execution_count": 61,
     "metadata": {},
     "output_type": "execute_result"
    }
   ],
   "source": [
    "# 값을 변수(variable)에 저장\n",
    "\n",
    "x = 43 + 60 + 16 + 41\n",
    "x"
   ]
  },
  {
   "cell_type": "markdown",
   "metadata": {},
   "source": [
    "<p>노트북에서 <code>x</code>의 값을 확인하려면 셀내 마지막 줄에 배치하면됩니다. </p>"
   ]
  },
  {
   "cell_type": "code",
   "execution_count": 60,
   "metadata": {},
   "outputs": [
    {
     "data": {
      "text/plain": [
       "160"
      ]
     },
     "execution_count": 60,
     "metadata": {},
     "output_type": "execute_result"
    }
   ],
   "source": [
    "# 변수 값을 출력\n",
    "\n",
    "x"
   ]
  },
  {
   "cell_type": "markdown",
   "metadata": {},
   "source": [
    "<p> <code>x</code>에 연산 수행후 결과를 새 변수에 저장할 수도 있습니다. </p>"
   ]
  },
  {
   "cell_type": "code",
   "execution_count": 62,
   "metadata": {},
   "outputs": [
    {
     "data": {
      "text/plain": [
       "2.6666666666666665"
      ]
     },
     "execution_count": 62,
     "metadata": {},
     "output_type": "execute_result"
    }
   ],
   "source": [
    "# 특정 변수와 값 간의 연산 결과를 다른 변수에 저장합니다.\n",
    "\n",
    "y = x / 60\n",
    "y"
   ]
  },
  {
   "cell_type": "markdown",
   "metadata": {},
   "source": [
    "<p>값을 기존 변수에 저장하면 새 값이 이전 값을 덮어 씁니다. </ p>"
   ]
  },
  {
   "cell_type": "code",
   "execution_count": 63,
   "metadata": {},
   "outputs": [
    {
     "data": {
      "text/plain": [
       "2.6666666666666665"
      ]
     },
     "execution_count": 63,
     "metadata": {},
     "output_type": "execute_result"
    }
   ],
   "source": [
    "# 새 값으로 변수 덮어 쓰기\n",
    "\n",
    "x = x / 60\n",
    "x"
   ]
  },
  {
   "cell_type": "markdown",
   "metadata": {},
   "source": [
    "<p>의미있는 변수 이름을 사용하는 것이 좋습니다. 그러면 사용자와 다른 사용자가 코드를 읽고 더 쉽게 이해할 수 있습니다. </ p>"
   ]
  },
  {
   "cell_type": "code",
   "execution_count": 64,
   "metadata": {},
   "outputs": [
    {
     "data": {
      "text/plain": [
       "142"
      ]
     },
     "execution_count": 64,
     "metadata": {},
     "output_type": "execute_result"
    }
   ],
   "source": [
    "# 변수 이름을 의미있게 지정\n",
    "\n",
    "total_min = 43 + 42 + 57 # 분 단위의 총 앨범 길이\n",
    "total_min"
   ]
  },
  {
   "cell_type": "code",
   "execution_count": 65,
   "metadata": {},
   "outputs": [
    {
     "data": {
      "text/plain": [
       "2.3666666666666667"
      ]
     },
     "execution_count": 65,
     "metadata": {},
     "output_type": "execute_result"
    }
   ],
   "source": [
    "# 변수 이름을 의미있게 지정\n",
    "\n",
    "total_hours = total_min / 60 # 시간 단위의 총 앨범 길이 \n",
    "total_hours"
   ]
  },
  {
   "cell_type": "markdown",
   "metadata": {},
   "source": [
    "<p> 위의 셀에서 3개 앨범 길이를 분 단위로 추가하고 <code>total_min</code>에 저장했습니다. 이 후 60으로 나누어 총 길이 <code>total_hours</code>(시간)를 계산했습니다. 아래에 표시된 것처럼 나누기 전 괄호를 사용하여 앨범 길이를 추가하면 한 번에 모든 작업을 단일 표현식으로 수행 할 수도 있습니다. </ p>"
   ]
  },
  {
   "cell_type": "code",
   "execution_count": 66,
   "metadata": {},
   "outputs": [
    {
     "data": {
      "text/plain": [
       "2.3666666666666667"
      ]
     },
     "execution_count": 66,
     "metadata": {},
     "output_type": "execute_result"
    }
   ],
   "source": [
    "# 복잡한 표현식\n",
    "\n",
    "total_hours = (43 + 42 + 57) / 60  # 단일 표현식 기반 총 시간\n",
    "total_hours"
   ]
  },
  {
   "cell_type": "code",
   "execution_count": 67,
   "metadata": {},
   "outputs": [
    {
     "data": {
      "text/plain": [
       "2"
      ]
     },
     "execution_count": 67,
     "metadata": {},
     "output_type": "execute_result"
    }
   ],
   "source": [
    "# 복잡한 표현식\n",
    "\n",
    "total_hours = (43 + 42 + 57) // 60  # 단일 표현식 기반 총 시간\n",
    "total_hours"
   ]
  },
  {
   "cell_type": "markdown",
   "metadata": {},
   "source": [
    "<p>총 시간을 정수로 표시하고자 할 경우, 부동 소수점 나누기를 정수 나누기로 변경합니다(예 : <code>//</code>). </p>"
   ]
  },
  {
   "cell_type": "markdown",
   "metadata": {},
   "source": [
    "<h3 id=\"exer_exp_var\">연습문제: 파이썬에서의 표현식과 변수</h3>"
   ]
  },
  {
   "cell_type": "markdown",
   "metadata": {},
   "source": [
    "<p> <code>x = 3 + 2 * 2</code>에서 <code>x</code>의 값은 얼마입니까?</p>"
   ]
  },
  {
   "cell_type": "code",
   "execution_count": 17,
   "metadata": {},
   "outputs": [
    {
     "data": {
      "text/plain": [
       "7"
      ]
     },
     "execution_count": 17,
     "metadata": {},
     "output_type": "execute_result"
    }
   ],
   "source": [
    "# 아래에 코드를 작성하세요. 셀을 실행하려면 Shift + Enter를 누르는 것을 잊지 마십시오.\n",
    "x = 3 + 2 * 2\n",
    "x"
   ]
  },
  {
   "cell_type": "markdown",
   "metadata": {},
   "source": [
    "해답을 보려면 __here__를 두 번 클릭하십시오.\n",
    "\n",
    "<!-- 해답:\n",
    "7\n",
    "-->\n"
   ]
  },
  {
   "cell_type": "markdown",
   "metadata": {},
   "source": [
    "<p> <code>y = (3 + 2) * 2</code>에서 <code>y</code>의 값은 얼마입니까? </p>"
   ]
  },
  {
   "cell_type": "code",
   "execution_count": 18,
   "metadata": {},
   "outputs": [
    {
     "data": {
      "text/plain": [
       "10"
      ]
     },
     "execution_count": 18,
     "metadata": {},
     "output_type": "execute_result"
    }
   ],
   "source": [
    "# 아래에 코드를 작성하세요. 셀을 실행하려면 Shift + Enter를 누르는 것을 잊지 마십시오.\n",
    "y = (3 + 2) * 2\n",
    "y"
   ]
  },
  {
   "cell_type": "markdown",
   "metadata": {},
   "source": [
    "해답을 보려면 __here__를 두 번 클릭하십시오.\n",
    "\n",
    "<!-- 해답:\n",
    "10\n",
    "-->"
   ]
  },
  {
   "cell_type": "markdown",
   "metadata": {},
   "source": [
    "<p> <code>z = x + y </code>에서 <code>z</code>의 값은 무엇입니까? </p>"
   ]
  },
  {
   "cell_type": "code",
   "execution_count": 19,
   "metadata": {},
   "outputs": [
    {
     "data": {
      "text/plain": [
       "17"
      ]
     },
     "execution_count": 19,
     "metadata": {},
     "output_type": "execute_result"
    }
   ],
   "source": [
    "# 아래에 코드를 작성하세요. 셀을 실행하려면 Shift + Enter를 누르는 것을 잊지 마십시오.\n",
    "z = x + y\n",
    "z"
   ]
  },
  {
   "cell_type": "markdown",
   "metadata": {},
   "source": [
    "해답을 보려면 __here__를 두 번 클릭하십시오.\n",
    "\n",
    "<!-- 해답:\n",
    "17\n",
    "-->"
   ]
  },
  {
   "cell_type": "markdown",
   "metadata": {},
   "source": [
    "<hr>\n",
    "<h2> 마지막 연습문제! </h2>\n",
    "<p> 축하합니다. 첫 번째 강의와 Python 실습을 완료했습니다. 그러나 해야 할 일이 하나 더 있습니다. 데이터 과학 커뮤니티는 작업 공유를 장려합니다. 작업을 공유하고 전시하는 가장 좋은 방법은 GitHub에서 공유하는 것입니다. GitHub에서 노트북을 공유하면 동료 데이터 과학자와 평판을 쌓을 뿐만 아니라 입사 지원시 이를 자랑 할 수도 있습니다. 이 노트북이 당신의 첫 번째 작업이긴 하지만 좋은 습관을 기르기에는 너무 이르지 않습니다. 따라서 <a href=\"https://cognitiveclass.ai/blog/data-scientists-stand-out-by-sharing-your-notebooks/\" target=\"_blank\">이 문서</a>를 읽고 따라해보시기 바랍니다. 작업을 공유하는 방법을 배우세요.\n",
    "<hr>"
   ]
  },
  {
   "cell_type": "markdown",
   "metadata": {},
   "source": [
    "<h3> 저자 정보: </h3>\n",
    "<p> <a href=\"https://www.linkedin.com/in/joseph-s-50398b136/\" target=\"_blank\">Joseph Santarcangelo</a>는 IBM의 데이터 과학자이며 전기공학으로 박사 학위를 받았습니다. 그의 연구는 머신 러닝, 신호 처리 및 컴퓨터 비전을 사용하여 동영상이 인간의 인지에 미치는 영향을 확인하는 데 중점을 두었습니다. Joseph은 박사 학위를 취득한 이후 IBM에서 근무하고 있습니다. </p>"
   ]
  },
  {
   "cell_type": "markdown",
   "metadata": {},
   "source": [
    "다른 기여자: <a href=\"www.linkedin.com/in/jiahui-mavis-zhou-a4537814a\">Mavis Zhou</a>"
   ]
  },
  {
   "cell_type": "markdown",
   "metadata": {},
   "source": [
    "<hr>\n",
    "<p>Copyright &copy; 2018 IBM Developer Skills Network. This notebook and its source code are released under the terms of the <a href=\"https://cognitiveclass.ai/mit-license/\">MIT License</a>.</p>"
   ]
  }
 ],
 "metadata": {
  "kernelspec": {
   "display_name": "Python 3 (ipykernel)",
   "language": "python",
   "name": "python3"
  },
  "language_info": {
   "codemirror_mode": {
    "name": "ipython",
    "version": 3
   },
   "file_extension": ".py",
   "mimetype": "text/x-python",
   "name": "python",
   "nbconvert_exporter": "python",
   "pygments_lexer": "ipython3",
   "version": "3.9.7"
  }
 },
 "nbformat": 4,
 "nbformat_minor": 4
}
