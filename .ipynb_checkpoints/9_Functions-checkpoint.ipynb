{
 "cells": [
  {
   "cell_type": "markdown",
   "metadata": {},
   "source": [
    "<h1>함수(Functions)</h1>"
   ]
  },
  {
   "cell_type": "markdown",
   "metadata": {},
   "source": [
    "<h2>목차</h2>\n",
    "<div class=\"alert alert-block alert-info\" style=\"margin-top: 20px\">\n",
    "    <ul>\n",
    "        <li>\n",
    "            <a href=\"#func\">1. 함수(Functions)</a>\n",
    "            <ul>\n",
    "                <li><a href=\"content\">함수란 무엇인가?</a></li>\n",
    "                <li><a href=\"var\">변수(Variables)</a></li>\n",
    "                <li><a href=\"simple\">함수는 모든 것을 간단하게 한다</a></li>\n",
    "            </ul>\n",
    "        </li>\n",
    "        <li><a href=\"pre\">2. 사전 정의된 함수(Pre-defined functions)</a></li>\n",
    "        <li><a href=\"if\">3. 함수내 <code>if</code>/<code>else</code>문과 루프(Loop) 사용하기</a></li>\n",
    "        <li><a href=\"default\">4. 사용자 정의 함수에서 디폴트 인자 값 설정하기</a></li>\n",
    "        <li><a href=\"global\">5. 글로벌 변수(Global variables)</a></li>\n",
    "        <li><a href=\"scope\">6. 변수 범위(Scope)</a></li>\n",
    "        <li>\n",
    "            <a href=\"#quiz\">7. 퀴즈</a>\n",
    "        </li>\n",
    "    </ul>\n",
    "</div>\n",
    "\n",
    "<hr>"
   ]
  },
  {
   "cell_type": "markdown",
   "metadata": {
    "tags": []
   },
   "source": [
    "<h2 id=\"func\" align=center>1. 함수(Functions)</h2>"
   ]
  },
  {
   "cell_type": "markdown",
   "metadata": {},
   "source": [
    "함수는 지정한 연산들을 수행하는 재사용 가능 코드 블록입니다. 이를 통해 작업을 분할하고 다른 프로그램에서 코드를 재사용하도록 할 수 있습니다.\n",
    "\n",
    "함수에는 두가지 타입이 존재합니다:\n",
    "\n",
    "- <b>사전 정의된 함수(Pre-defined functions)</b>\n",
    "- <b>사용자 정의 함수(User defined functions)</b>"
   ]
  },
  {
   "cell_type": "markdown",
   "metadata": {},
   "source": [
    "<h3 id=\"content\">함수란 무엇인가?</h3>"
   ]
  },
  {
   "cell_type": "code",
   "execution_count": 1,
   "metadata": {},
   "outputs": [],
   "source": [
    "# 첫번째 함수 예제 : a에 1을 더한 후 b에 저장\n",
    "\n",
    "def add(a):\n",
    "    b = a + 1\n",
    "    print(a, \"if you add one\", b)\n",
    "    return(b)"
   ]
  },
  {
   "cell_type": "markdown",
   "metadata": {},
   "source": [
    "<img src=\"https://s3-api.us-geo.objectstorage.softlayer.net/cf-courses-data/CognitiveClass/PY0101EN/Chapter%203/Images/FuncsDefinition.png\" width=\"500\" /> "
   ]
  },
  {
   "cell_type": "code",
   "execution_count": 2,
   "metadata": {
    "collapsed": false,
    "jupyter": {
     "outputs_hidden": false
    }
   },
   "outputs": [
    {
     "name": "stdout",
     "output_type": "stream",
     "text": [
      "Help on function add in module __main__:\n",
      "\n",
      "add(a)\n",
      "\n"
     ]
    }
   ],
   "source": [
    "# add함수의 도움말 확인\n",
    "\n",
    "help(add)"
   ]
  },
  {
   "cell_type": "code",
   "execution_count": 3,
   "metadata": {
    "collapsed": false,
    "jupyter": {
     "outputs_hidden": false
    }
   },
   "outputs": [
    {
     "name": "stdout",
     "output_type": "stream",
     "text": [
      "1 if you add one 2\n"
     ]
    },
    {
     "data": {
      "text/plain": [
       "2"
      ]
     },
     "execution_count": 3,
     "metadata": {},
     "output_type": "execute_result"
    }
   ],
   "source": [
    "# add() 함수 호출\n",
    "\n",
    "add(1)"
   ]
  },
  {
   "cell_type": "code",
   "execution_count": 4,
   "metadata": {
    "collapsed": false,
    "jupyter": {
     "outputs_hidden": false
    }
   },
   "outputs": [
    {
     "name": "stdout",
     "output_type": "stream",
     "text": [
      "2 if you add one 3\n"
     ]
    },
    {
     "data": {
      "text/plain": [
       "3"
      ]
     },
     "execution_count": 4,
     "metadata": {},
     "output_type": "execute_result"
    }
   ],
   "source": [
    "# add() 함수 호출\n",
    "\n",
    "add(2)"
   ]
  },
  {
   "cell_type": "code",
   "execution_count": 5,
   "metadata": {},
   "outputs": [],
   "source": [
    "# 2개 숫자를 곱하는 함수 정의\n",
    "\n",
    "def Mult(a, b):\n",
    "    c = a * b\n",
    "    return(c)"
   ]
  },
  {
   "cell_type": "code",
   "execution_count": 6,
   "metadata": {
    "collapsed": false,
    "jupyter": {
     "outputs_hidden": false
    }
   },
   "outputs": [
    {
     "data": {
      "text/plain": [
       "6"
      ]
     },
     "execution_count": 6,
     "metadata": {},
     "output_type": "execute_result"
    }
   ],
   "source": [
    "# mult()함수를 사용하여 두개의 정수를 곱하기\n",
    "\n",
    "Mult(2, 3)"
   ]
  },
  {
   "cell_type": "code",
   "execution_count": 7,
   "metadata": {
    "collapsed": false,
    "jupyter": {
     "outputs_hidden": false
    }
   },
   "outputs": [
    {
     "data": {
      "text/plain": [
       "31.400000000000002"
      ]
     },
     "execution_count": 7,
     "metadata": {},
     "output_type": "execute_result"
    }
   ],
   "source": [
    "# mult()함수 사용하여 두개의 부동소수점수 곰하기\n",
    "\n",
    "Mult(10.0, 3.14)"
   ]
  },
  {
   "cell_type": "code",
   "execution_count": 8,
   "metadata": {
    "collapsed": false,
    "jupyter": {
     "outputs_hidden": false
    }
   },
   "outputs": [
    {
     "data": {
      "text/plain": [
       "'Michael Jackson Michael Jackson '"
      ]
     },
     "execution_count": 8,
     "metadata": {},
     "output_type": "execute_result"
    }
   ],
   "source": [
    "# mult()함수를 사용하여 두개의 서로 다른 타입의 값을 곱하기\n",
    "\n",
    "Mult(2, \"Michael Jackson \")"
   ]
  },
  {
   "cell_type": "markdown",
   "metadata": {},
   "source": [
    "<h3 id=\"var\">변수</h3>"
   ]
  },
  {
   "cell_type": "code",
   "execution_count": 9,
   "metadata": {
    "collapsed": false,
    "jupyter": {
     "outputs_hidden": false
    }
   },
   "outputs": [],
   "source": [
    "# 함수 정의\n",
    "\n",
    "def square(a):\n",
    "    \n",
    "    # 로컬(Local) 변수 b ## 함수 안에서만 정의\n",
    "    b = 1\n",
    "    c = a * a + b\n",
    "    print(a, \"if you square + 1\", c) \n",
    "    return(c)"
   ]
  },
  {
   "cell_type": "markdown",
   "metadata": {},
   "source": [
    "<img src=\"https://s3-api.us-geo.objectstorage.softlayer.net/cf-courses-data/CognitiveClass/PY0101EN/Chapter%203/Images/FuncsVar.png\" width=\"500\" />"
   ]
  },
  {
   "cell_type": "code",
   "execution_count": 10,
   "metadata": {
    "collapsed": false,
    "jupyter": {
     "outputs_hidden": false
    }
   },
   "outputs": [
    {
     "name": "stdout",
     "output_type": "stream",
     "text": [
      "3 if you square + 1 10\n"
     ]
    },
    {
     "data": {
      "text/plain": [
       "10"
      ]
     },
     "execution_count": 10,
     "metadata": {},
     "output_type": "execute_result"
    }
   ],
   "source": [
    "# 글로벌 변수 초기화  ## 함수 밖에서도 적용\n",
    "\n",
    "x = 3\n",
    "# 함수를 호출하고 함수의 반환값을 y에 저장\n",
    "y = square(x)\n",
    "y"
   ]
  },
  {
   "cell_type": "code",
   "execution_count": 11,
   "metadata": {
    "collapsed": false,
    "jupyter": {
     "outputs_hidden": false
    }
   },
   "outputs": [
    {
     "name": "stdout",
     "output_type": "stream",
     "text": [
      "2 if you square + 1 5\n"
     ]
    },
    {
     "data": {
      "text/plain": [
       "5"
      ]
     },
     "execution_count": 11,
     "metadata": {},
     "output_type": "execute_result"
    }
   ],
   "source": [
    "# 숫자를 직접 매개변수(parameter)로 입력 \n",
    "\n",
    "square(2)"
   ]
  },
  {
   "cell_type": "code",
   "execution_count": 12,
   "metadata": {
    "collapsed": false,
    "jupyter": {
     "outputs_hidden": false
    }
   },
   "outputs": [],
   "source": [
    "# None을 반환하는 함수와 아무것도 반환하지 않는 함수 정의\n",
    "\n",
    "def MJ():\n",
    "    print('Michael Jackson')\n",
    "    \n",
    "def MJ1():\n",
    "    print('Michael Jackson')\n",
    "    return(None)"
   ]
  },
  {
   "cell_type": "code",
   "execution_count": 13,
   "metadata": {
    "collapsed": false,
    "jupyter": {
     "outputs_hidden": false
    }
   },
   "outputs": [
    {
     "name": "stdout",
     "output_type": "stream",
     "text": [
      "Michael Jackson\n"
     ]
    }
   ],
   "source": [
    "# 결과 확인\n",
    "\n",
    "MJ()"
   ]
  },
  {
   "cell_type": "code",
   "execution_count": 14,
   "metadata": {
    "collapsed": false,
    "jupyter": {
     "outputs_hidden": false
    }
   },
   "outputs": [
    {
     "name": "stdout",
     "output_type": "stream",
     "text": [
      "Michael Jackson\n"
     ]
    }
   ],
   "source": [
    "# 결과 확인\n",
    "\n",
    "MJ1()"
   ]
  },
  {
   "cell_type": "code",
   "execution_count": 15,
   "metadata": {
    "collapsed": false,
    "jupyter": {
     "outputs_hidden": false
    }
   },
   "outputs": [
    {
     "name": "stdout",
     "output_type": "stream",
     "text": [
      "Michael Jackson\n",
      "None\n",
      "Michael Jackson\n",
      "None\n"
     ]
    }
   ],
   "source": [
    "# 함수 반환값의 확인 \n",
    "\n",
    "print(MJ())\n",
    "print(MJ1())"
   ]
  },
  {
   "cell_type": "code",
   "execution_count": 16,
   "metadata": {},
   "outputs": [],
   "source": [
    "# 문자열을 결합하는 함수 정의\n",
    "\n",
    "def con(a, b):\n",
    "    return(a + b)"
   ]
  },
  {
   "cell_type": "code",
   "execution_count": 17,
   "metadata": {},
   "outputs": [
    {
     "data": {
      "text/plain": [
       "'This is'"
      ]
     },
     "execution_count": 17,
     "metadata": {},
     "output_type": "execute_result"
    }
   ],
   "source": [
    "# con()함수 테스트\n",
    "\n",
    "con(\"This \", \"is\")"
   ]
  },
  {
   "cell_type": "markdown",
   "metadata": {},
   "source": [
    "<hr/>\n",
    "    <div class=\"alert alert-success alertsuccess\" style=\"margin-top: 20px\">\n",
    "        <h4> [팁] Python에서 사전 정의 된 함수에 대해 자세히 알아 보려면 어떻게해야합니까? </h4>\n",
    "        <p>파이썬에는 다양한 사전 정의된 함수가 존재합니다. 이러한 사전 정의된 함수의 일부에 대해 빠르게 살펴보고자 한다면 <a href=\"http://www.astro.up.pt/~sousasag/Python_For_Astronomers/Python_qr.pdf\">참조 카드(Quick Reference Sheet)</a>를 확인하시기 바랍니다.</p>\n",
    "    </div>\n",
    "<hr/>"
   ]
  },
  {
   "cell_type": "markdown",
   "metadata": {},
   "source": [
    "<h3 id=\"simple\">함수는 모든 것을 간단하게 한다</h3>"
   ]
  },
  {
   "cell_type": "markdown",
   "metadata": {},
   "source": [
    "<h4>블록 1:</h4>"
   ]
  },
  {
   "cell_type": "code",
   "execution_count": 18,
   "metadata": {
    "collapsed": false,
    "jupyter": {
     "outputs_hidden": false
    }
   },
   "outputs": [
    {
     "data": {
      "text/plain": [
       "5"
      ]
     },
     "execution_count": 18,
     "metadata": {},
     "output_type": "execute_result"
    }
   ],
   "source": [
    "# a와 b를 계산하는 블록 1\n",
    "\n",
    "a1 = 4\n",
    "b1 = 5\n",
    "c1 = a1 + b1 + 2 * a1 * b1 - 1\n",
    "if(c1 < 0):\n",
    "    c1 = 0 \n",
    "else:\n",
    "    c1 = 5\n",
    "c1   "
   ]
  },
  {
   "cell_type": "markdown",
   "metadata": {},
   "source": [
    "<h4>블록 2:</h4>"
   ]
  },
  {
   "cell_type": "code",
   "execution_count": 19,
   "metadata": {
    "collapsed": false,
    "jupyter": {
     "outputs_hidden": false
    }
   },
   "outputs": [
    {
     "data": {
      "text/plain": [
       "0"
      ]
     },
     "execution_count": 19,
     "metadata": {},
     "output_type": "execute_result"
    }
   ],
   "source": [
    "# a와 b를 계산하는 블록 2\n",
    "\n",
    "a2 = 0\n",
    "b2 = 0\n",
    "c2 = a2 + b2 + 2 * a2 * b2 - 1\n",
    "if(c2 < 0):\n",
    "    c2 = 0 \n",
    "else:\n",
    "    c2 = 5\n",
    "c2   "
   ]
  },
  {
   "cell_type": "code",
   "execution_count": 20,
   "metadata": {
    "collapsed": false,
    "jupyter": {
     "outputs_hidden": false
    }
   },
   "outputs": [],
   "source": [
    "# 위 계산용 블록들을 함수로 정의 \n",
    "\n",
    "def Equation(a,b):\n",
    "    c = a + b + 2 * a * b - 1\n",
    "    if(c < 0):\n",
    "        c = 0 \n",
    "    else:\n",
    "        c = 5\n",
    "    return(c) "
   ]
  },
  {
   "cell_type": "markdown",
   "metadata": {},
   "source": [
    "<img src=\"https://s3-api.us-geo.objectstorage.softlayer.net/cf-courses-data/CognitiveClass/PY0101EN/Chapter%203/Images/FuncsPros.gif\" width=\"850\" />"
   ]
  },
  {
   "cell_type": "markdown",
   "metadata": {},
   "source": [
    "<h4>블록 3:</h4>"
   ]
  },
  {
   "cell_type": "code",
   "execution_count": 21,
   "metadata": {
    "collapsed": false,
    "jupyter": {
     "outputs_hidden": false
    }
   },
   "outputs": [
    {
     "data": {
      "text/plain": [
       "5"
      ]
     },
     "execution_count": 21,
     "metadata": {},
     "output_type": "execute_result"
    }
   ],
   "source": [
    "a1 = 4\n",
    "b1 = 5\n",
    "c1 = Equation(a1, b1)\n",
    "c1"
   ]
  },
  {
   "cell_type": "markdown",
   "metadata": {},
   "source": [
    "<h4>블록 4:</h4>"
   ]
  },
  {
   "cell_type": "code",
   "execution_count": 22,
   "metadata": {
    "collapsed": false,
    "jupyter": {
     "outputs_hidden": false
    }
   },
   "outputs": [
    {
     "data": {
      "text/plain": [
       "0"
      ]
     },
     "execution_count": 22,
     "metadata": {},
     "output_type": "execute_result"
    }
   ],
   "source": [
    "a2 = 0\n",
    "b2 = 0\n",
    "c2 = Equation(a2, b2)\n",
    "c2"
   ]
  },
  {
   "cell_type": "markdown",
   "metadata": {},
   "source": [
    "<hr>"
   ]
  },
  {
   "cell_type": "markdown",
   "metadata": {},
   "source": [
    "<h2 id=\"pre\" align=center>2. 사전정의된 함수(Pre-defined functions)</h2>"
   ]
  },
  {
   "cell_type": "code",
   "execution_count": 23,
   "metadata": {},
   "outputs": [
    {
     "name": "stdout",
     "output_type": "stream",
     "text": [
      "[10.0, 8.5, 9.5, 7.0, 7.0, 9.5, 9.0, 9.5]\n"
     ]
    }
   ],
   "source": [
    "# 내장 함수 print()\n",
    "\n",
    "album_ratings = [10.0, 8.5, 9.5, 7.0, 7.0, 9.5, 9.0, 9.5] \n",
    "print(album_ratings)"
   ]
  },
  {
   "cell_type": "code",
   "execution_count": 24,
   "metadata": {},
   "outputs": [
    {
     "data": {
      "text/plain": [
       "70.0"
      ]
     },
     "execution_count": 24,
     "metadata": {},
     "output_type": "execute_result"
    }
   ],
   "source": [
    "# sum()을 이용하여 리스트 혹은 튜플내 모든 원소를 더하기 \n",
    "\n",
    "sum(album_ratings)"
   ]
  },
  {
   "cell_type": "code",
   "execution_count": 25,
   "metadata": {},
   "outputs": [
    {
     "data": {
      "text/plain": [
       "8"
      ]
     },
     "execution_count": 25,
     "metadata": {},
     "output_type": "execute_result"
    }
   ],
   "source": [
    "# 리스트 혹은 튜플의 길이 확인\n",
    "\n",
    "len(album_ratings)"
   ]
  },
  {
   "cell_type": "markdown",
   "metadata": {},
   "source": [
    "<h2 id=\"if\" align=center>3. 함수 내 <code>if</code>/<code>else</code>문과 루프(Loop) 사용하기</h2>"
   ]
  },
  {
   "cell_type": "code",
   "execution_count": 26,
   "metadata": {
    "collapsed": false,
    "jupyter": {
     "outputs_hidden": false
    }
   },
   "outputs": [
    {
     "name": "stdout",
     "output_type": "stream",
     "text": [
      "Michael Jackson Thriller 1980\n",
      "Oldie\n"
     ]
    }
   ],
   "source": [
    "# 함수 예제\n",
    "\n",
    "def type_of_album(artist, album, year_released):\n",
    "    \n",
    "    print(artist, album, year_released)\n",
    "    if year_released > 1980:\n",
    "        return \"Modern\"\n",
    "    else:\n",
    "        return \"Oldie\"\n",
    "    \n",
    "x = type_of_album(\"Michael Jackson\", \"Thriller\", 1980)\n",
    "print(x)"
   ]
  },
  {
   "cell_type": "code",
   "execution_count": 27,
   "metadata": {},
   "outputs": [],
   "source": [
    "# for 루프를 활용하여 리스트 출력\n",
    "\n",
    "def PrintList(the_list):\n",
    "    for element in the_list:\n",
    "        print(element)"
   ]
  },
  {
   "cell_type": "code",
   "execution_count": 28,
   "metadata": {
    "collapsed": false,
    "jupyter": {
     "outputs_hidden": false
    }
   },
   "outputs": [
    {
     "name": "stdout",
     "output_type": "stream",
     "text": [
      "1\n",
      "1\n",
      "the man\n",
      "abc\n"
     ]
    }
   ],
   "source": [
    "# printlist함수 출하기\n",
    "\n",
    "PrintList(['1', 1, 'the man', \"abc\"])"
   ]
  },
  {
   "cell_type": "markdown",
   "metadata": {},
   "source": [
    "<hr>"
   ]
  },
  {
   "cell_type": "markdown",
   "metadata": {},
   "source": [
    "<h2 id=\"default\" align=center>4. 사용자 정의 함수에서 디폴트 인자 값 설정하기</h2>"
   ]
  },
  {
   "cell_type": "code",
   "execution_count": 29,
   "metadata": {
    "collapsed": false,
    "jupyter": {
     "outputs_hidden": false
    }
   },
   "outputs": [],
   "source": [
    "# 디폴트 값으로 함수의 매개변수를 설정하는 예제\n",
    "\n",
    "def isGoodRating(rating=4): \n",
    "    if(rating < 7):\n",
    "        print(\"this album sucks it's rating is\",rating)\n",
    "        \n",
    "    else:\n",
    "        print(\"this album is good its rating is\",rating)\n"
   ]
  },
  {
   "cell_type": "code",
   "execution_count": 30,
   "metadata": {
    "collapsed": false,
    "jupyter": {
     "outputs_hidden": false
    }
   },
   "outputs": [
    {
     "name": "stdout",
     "output_type": "stream",
     "text": [
      "this album sucks it's rating is 4\n",
      "this album is good its rating is 10\n"
     ]
    }
   ],
   "source": [
    "# 함수의 디폴트 테스트\n",
    "isGoodRating() ## 4: rating 초기값\n",
    "\n",
    "#함수에 입력값 추가 테스트 \n",
    "isGoodRating(10)"
   ]
  },
  {
   "cell_type": "markdown",
   "metadata": {},
   "source": [
    "<hr>"
   ]
  },
  {
   "cell_type": "markdown",
   "metadata": {},
   "source": [
    "<h2 id=\"global\" align=center>5. 글로벌 변수(Global variables)</h2>"
   ]
  },
  {
   "cell_type": "code",
   "execution_count": 31,
   "metadata": {
    "collapsed": false,
    "jupyter": {
     "outputs_hidden": false
    }
   },
   "outputs": [
    {
     "name": "stdout",
     "output_type": "stream",
     "text": [
      "Michael Jackson is an artist\n"
     ]
    }
   ],
   "source": [
    "# 글로벌 변수 예제\n",
    "\n",
    "artist = \"Michael Jackson\"\n",
    "def printer1(artist):\n",
    "    internal_var = artist\n",
    "    print(artist, \"is an artist\")\n",
    "    \n",
    "printer1(artist)"
   ]
  },
  {
   "cell_type": "code",
   "execution_count": 33,
   "metadata": {},
   "outputs": [
    {
     "name": "stdout",
     "output_type": "stream",
     "text": [
      "Michael Jackson is an artist\n"
     ]
    },
    {
     "ename": "NameError",
     "evalue": "name 'internal_var' is not defined",
     "output_type": "error",
     "traceback": [
      "\u001b[0;31m---------------------------------------------------------------------------\u001b[0m",
      "\u001b[0;31mNameError\u001b[0m                                 Traceback (most recent call last)",
      "\u001b[0;32m/var/folders/n3/bz2mm1yd4zxfg43xl_hldsc80000gn/T/ipykernel_67807/504301505.py\u001b[0m in \u001b[0;36m<module>\u001b[0;34m\u001b[0m\n\u001b[1;32m      7\u001b[0m \u001b[0;34m\u001b[0m\u001b[0m\n\u001b[1;32m      8\u001b[0m \u001b[0mprinter1\u001b[0m\u001b[0;34m(\u001b[0m\u001b[0martist\u001b[0m\u001b[0;34m)\u001b[0m        \u001b[0;31m# 정상 출력\u001b[0m\u001b[0;34m\u001b[0m\u001b[0;34m\u001b[0m\u001b[0m\n\u001b[0;32m----> 9\u001b[0;31m \u001b[0mprinter1\u001b[0m\u001b[0;34m(\u001b[0m\u001b[0minternal_var\u001b[0m\u001b[0;34m)\u001b[0m  \u001b[0;31m# internal_var는 함수내에서 만들어진 관계로 함수 밖에서는 사용 불가능한 관계로 오류 발생\u001b[0m\u001b[0;34m\u001b[0m\u001b[0;34m\u001b[0m\u001b[0m\n\u001b[0m",
      "\u001b[0;31mNameError\u001b[0m: name 'internal_var' is not defined"
     ]
    }
   ],
   "source": [
    "# 변수 범위로 인한 오류 예제  - 이 셀 수행시 반드시 커널을 restart후 수행하시기 바랍니다. \n",
    "\n",
    "artist = \"Michael Jackson\"\n",
    "def printer1(artist):\n",
    "    internal_var = artist\n",
    "    print(artist, \"is an artist\")\n",
    "    \n",
    "printer1(artist)        # 글로벌 변수 -> 정상 출력\n",
    "printer1(internal_var)  # internal_var는 함수내에서 만들어진 관계로 함수 밖에서는 사용 불가능한 관계로 오류 발생"
   ]
  },
  {
   "cell_type": "markdown",
   "metadata": {},
   "source": [
    "<b>만약 파이썬 코드 수행 중 <code>name 'internal_var' is not defined</code>와 같은 오류를 받는 다면 다음과 같은 이유가 뭘까요?</b> \n",
    "\n",
    "함수 내에서 만드는 모든 변수는 <b>로컬 변수</b>이기 때문입니다. 즉, 할당된 변수는 함수 외부에서는 유지되지 않습니다. 그러나 다음과 같은 방법을 사용하면 함수 내에서 <b>글로벌 변수</b>를 만들 수 있습니다. "
   ]
  },
  {
   "cell_type": "code",
   "execution_count": 34,
   "metadata": {
    "collapsed": false,
    "jupyter": {
     "outputs_hidden": false
    }
   },
   "outputs": [
    {
     "name": "stdout",
     "output_type": "stream",
     "text": [
      "Michael Jackson is an artist\n",
      "Whitney Houston is an artist\n"
     ]
    }
   ],
   "source": [
    "artist = \"Michael Jackson\"\n",
    "\n",
    "def printer(artist):\n",
    "    global internal_var  ## global 변수화 시키는 법\n",
    "    internal_var= \"Whitney Houston\"\n",
    "    print(artist,\"is an artist\")\n",
    "\n",
    "printer(artist) \n",
    "printer(internal_var)"
   ]
  },
  {
   "cell_type": "markdown",
   "metadata": {},
   "source": [
    "<h2 id=\"scope\" align=center>6. 변수 범위(Scope)</h2>"
   ]
  },
  {
   "cell_type": "markdown",
   "metadata": {},
   "source": [
    "변수의 범위(Scope)는 해당 변수에 접근 가능한 프로그램 영역입니다. 다음 코드의 <code>myFavouriteBand</code>변수와 같이 모든 함수 정의의 외부에서 선언된 변수는 프로그램 내 어느곳에서나 접근할 수 있습니다. 결과적으로 이러한 변수는 전역(글로벌) 범위를 가지는 관계로 전역 변수 즉 글로벌 변수라고 합니다.  \n",
    "<code>myFavouriteBand</code>는 글로벌 변수이므로 <code>getBandRating</code> 함수 내에서 접근할 수 있으며 이를 이용하여 밴드의 등급을 결정할 수 있습니다. 또, 이러한 글로벌 변수는 다음 코드의 print 함수에서의 사용 예와 같이 함수 외부에서도 사용할 수 있습니다. "
   ]
  },
  {
   "cell_type": "code",
   "execution_count": null,
   "metadata": {
    "collapsed": false,
    "jupyter": {
     "outputs_hidden": false
    }
   },
   "outputs": [],
   "source": [
    "# 글로벌 변수 예제\n",
    "\n",
    "myFavouriteBand = \"AC/DC\"\n",
    "\n",
    "def getBandRating(bandname):\n",
    "    if bandname == myFavouriteBand:\n",
    "        return 10.0\n",
    "    else:\n",
    "        return 0.0\n",
    "\n",
    "print(\"AC/DC's rating is:\", getBandRating(\"AC/DC\"))\n",
    "print(\"Deep Purple's rating is:\",getBandRating(\"Deep Purple\"))\n",
    "print(\"My favourite band is:\", myFavouriteBand)"
   ]
  },
  {
   "cell_type": "markdown",
   "metadata": {},
   "source": [
    "다음의 수정된 버전의 코드를 살펴보십시오. 이제 <code>myFavouriteBand</code> 변수가 <code>getBandRating</code> 함수 내에 정의됩니다. 함수 내에 정의 된 변수를 해당 함수의 지역 변수 즉 로컬 변수라고 합니다. 즉, 정의된 함수 내에서만 접근할 수 있습니다. <code>myFavouriteBand</code>가 함수 내에 정의되어 있기 때문에 <code>getBandRating</code> 함수는 계속 작동합니다. 그러나 <code>getBandRating</code>함수의 로컬 변수이기 때문에 더 이상 함수 외부에서 <code>myFavouriteBand</code>를 출력할 수 없습니다. 왜냐하면 해당 변수는 이제 <code>getBandRating</code>함수 내에서만 정의되어 있습니다. "
   ]
  },
  {
   "cell_type": "code",
   "execution_count": null,
   "metadata": {
    "collapsed": false,
    "jupyter": {
     "outputs_hidden": false
    }
   },
   "outputs": [],
   "source": [
    "# 로컬 변수 예제 - 이 셀 수행시 반드시 커널을 restart후 수행하시기 바랍니다.\n",
    "\n",
    "def getBandRating(bandname):\n",
    "    myFavouriteBand = \"AC/DC\"\n",
    "    if bandname == myFavouriteBand:\n",
    "        return 10.0\n",
    "    else:\n",
    "        return 0.0\n",
    "\n",
    "print(\"AC/DC's rating is: \", getBandRating(\"AC/DC\"))\n",
    "print(\"Deep Purple's rating is: \", getBandRating(\"Deep Purple\"))\n",
    "print(\"My favourite band is\", myFavouriteBand)"
   ]
  },
  {
   "cell_type": "markdown",
   "metadata": {},
   "source": [
    "마지막으로 다음 예제를 살펴보십시오. 이제 두 개의 <code>myFavouriteBand</code> 변수 정의가 있습니다. 이들 중 첫 번째는 글로벌 즉 전역 범위를 가지며 두 번째는 <code>getBandRating</code> 함수 내의 로컬 즉 지역 변수입니다. <code>getBandRating</code> 함수 내에서는 글로벌변수보다 로컬변수가 우선합니다. **Deep Purple**은 <code>getBandRating</code> 함수에 전달 될 때 10.0 등급을 받습니다. 그러나 <code>getBandRating</code> 함수 외부에서는 <code>getBandRating</code>의 로컬 변수가 정의되어 있지 않으므로 출력하는 <code>myFavouriteBand</code> 변수는 글로벌 변수로서 **AC / DC** 값이 존재하는 관계로 이것을 출력하게 됩니다. "
   ]
  },
  {
   "cell_type": "code",
   "execution_count": null,
   "metadata": {
    "collapsed": false,
    "jupyter": {
     "outputs_hidden": false
    }
   },
   "outputs": [],
   "source": [
    "# 동일 이름의 글로벌 변수와 로컬 변수를 가진 예제\n",
    "\n",
    "myFavouriteBand = \"AC/DC\"\n",
    "\n",
    "def getBandRating(bandname):\n",
    "    myFavouriteBand = \"Deep Purple\"\n",
    "    if bandname == myFavouriteBand:\n",
    "        return 10.0\n",
    "    else:\n",
    "        return 0.0\n",
    "\n",
    "print(\"AC/DC's rating is:\",getBandRating(\"AC/DC\"))\n",
    "print(\"Deep Purple's rating is: \",getBandRating(\"Deep Purple\"))\n",
    "print(\"My favourite band is:\",myFavouriteBand)"
   ]
  },
  {
   "cell_type": "markdown",
   "metadata": {},
   "source": [
    "<h2 align=center>7. 퀴즈</h2>"
   ]
  },
  {
   "cell_type": "markdown",
   "metadata": {},
   "source": [
    "첫번째 인자를 두번째 인자로 나눈 값을 돌려주는 함수를 정의하시오.   \n",
    "(Come up with a function that divides the first input by the second input)"
   ]
  },
  {
   "cell_type": "code",
   "execution_count": 36,
   "metadata": {},
   "outputs": [],
   "source": [
    "# 아래에 코드를 작성하고 Shift + Enter를 눌러 실행하십시오.\n",
    "def div(a, b):\n",
    "    return(a/b)"
   ]
  },
  {
   "cell_type": "markdown",
   "metadata": {},
   "source": [
    "해답을 보려면 <b>여기</b>를 두 번 클릭하십시오.\n",
    "\n",
    "<!-- 해답:  \n",
    "def div(a, b):\n",
    "    return(a/b)\n",
    "-->"
   ]
  },
  {
   "cell_type": "markdown",
   "metadata": {},
   "source": [
    "<hr>"
   ]
  },
  {
   "cell_type": "markdown",
   "metadata": {},
   "source": [
    "함수 <code>con</code>을 사용하여 다음 질문에 답하시오.  \n",
    "(Use the function <code>con</code> for the following question)"
   ]
  },
  {
   "cell_type": "code",
   "execution_count": 38,
   "metadata": {},
   "outputs": [],
   "source": [
    "# Use the con function for the following question\n",
    "\n",
    "def con(a, b):\n",
    "    return(a + b)"
   ]
  },
  {
   "cell_type": "markdown",
   "metadata": {},
   "source": [
    "앞에서 정의한 함수 <code>con</code>을 정수 덧셈 혹은 문자열 덧셈에도 사용할 수 있는가?  \n",
    "(Can the <code>con</code> function we defined before be used to add to integers or strings?)"
   ]
  },
  {
   "cell_type": "code",
   "execution_count": 37,
   "metadata": {},
   "outputs": [
    {
     "data": {
      "text/plain": [
       "4"
      ]
     },
     "execution_count": 37,
     "metadata": {},
     "output_type": "execute_result"
    }
   ],
   "source": [
    "# 아래에 코드를 작성하고 Shift + Enter를 눌러 실행하십시오.\n",
    " \n",
    "con(2, 2)"
   ]
  },
  {
   "cell_type": "markdown",
   "metadata": {},
   "source": [
    "해답을 보려면 <b>여기</b>를 두 번 클릭하십시오.\n",
    "\n",
    "<!-- 해답: \n",
    "yes, for example: \n",
    "con(2, 2)\n",
    " -->"
   ]
  },
  {
   "cell_type": "markdown",
   "metadata": {},
   "source": [
    "<hr>"
   ]
  },
  {
   "cell_type": "markdown",
   "metadata": {},
   "source": [
    "앞에서 정의한 함수 <code>con</code>은 list 혹은 tuple들의 원소를 모으는 데도 사용할 수 있는가?  \n",
    "(Can the <code>con</code> function we defined before be used to concentrate a list or tuple?)"
   ]
  },
  {
   "cell_type": "code",
   "execution_count": 39,
   "metadata": {},
   "outputs": [
    {
     "data": {
      "text/plain": [
       "['a', 1, 'b', 1]"
      ]
     },
     "execution_count": 39,
     "metadata": {},
     "output_type": "execute_result"
    }
   ],
   "source": [
    "# 아래에 코드를 작성하고 Shift + Enter를 눌러 실행하십시오.\n",
    "con(['a', 1], ['b', 1])"
   ]
  },
  {
   "cell_type": "markdown",
   "metadata": {},
   "source": [
    "해답을 보려면 <b>여기</b>를 두 번 클릭하십시오.\n",
    "\n",
    "<!-- 해답: \n",
    "yes,for example: \n",
    "con(['a', 1], ['b', 1])\n",
    "-->\n"
   ]
  },
  {
   "cell_type": "markdown",
   "metadata": {},
   "source": [
    "<hr>\n",
    "<h2> 마지막 연습문제! </h2>\n",
    "<p> 축하합니다. 그러나 해야 할 일이 하나 더 있습니다. 데이터 과학 커뮤니티는 작업 공유를 장려합니다. 작업을 공유하고 전시하는 가장 좋은 방법은 GitHub에서 공유하는 것입니다. GitHub에서 노트북을 공유하면 동료 데이터 과학자와 평판을 쌓을 뿐만 아니라 입사 지원시 이를 자랑 할 수도 있습니다. 이 노트북이 당신의 첫 번째 작업이긴 하지만 좋은 습관을 기르기에는 너무 이르지 않습니다. 따라서 <a href=\"https://cognitiveclass.ai/blog/data-scientists-stand-out-by-sharing-your-notebooks/\" target=\"_blank\">이 문서</a>를 읽고 따라해보시기 바랍니다. 작업을 공유하는 방법을 배우세요.\n",
    "<hr>"
   ]
  },
  {
   "cell_type": "markdown",
   "metadata": {},
   "source": [
    "<h3> 저자 정보: </h3>\n",
    "<p> <a href=\"https://www.linkedin.com/in/joseph-s-50398b136/\" target=\"_blank\">Joseph Santarcangelo</a>는 IBM의 데이터 과학자이며 전기공학으로 박사 학위를 받았습니다. 그의 연구는 머신 러닝, 신호 처리 및 컴퓨터 비전을 사용하여 동영상이 인간의 인지에 미치는 영향을 확인하는 데 중점을 두었습니다. Joseph은 박사 학위를 취득한 이후 IBM에서 근무하고 있습니다. </p>"
   ]
  },
  {
   "cell_type": "markdown",
   "metadata": {},
   "source": [
    "다른 기여자: <a href=\"www.linkedin.com/in/jiahui-mavis-zhou-a4537814a\">Mavis Zhou</a>, <a href=\"https://www.linkedin.com/in/reevejamesd/\">James Reeve</a>"
   ]
  },
  {
   "cell_type": "markdown",
   "metadata": {},
   "source": [
    "<hr>"
   ]
  },
  {
   "cell_type": "markdown",
   "metadata": {},
   "source": [
    "<p>Copyright &copy; 2018 IBM Developer Skills Network. This notebook and its source code are released under the terms of the <a href=\"https://cognitiveclass.ai/mit-license/\">MIT License</a>.</p>"
   ]
  }
 ],
 "metadata": {
  "kernelspec": {
   "display_name": "Python 3 (ipykernel)",
   "language": "python",
   "name": "python3"
  },
  "language_info": {
   "codemirror_mode": {
    "name": "ipython",
    "version": 3
   },
   "file_extension": ".py",
   "mimetype": "text/x-python",
   "name": "python",
   "nbconvert_exporter": "python",
   "pygments_lexer": "ipython3",
   "version": "3.9.7"
  }
 },
 "nbformat": 4,
 "nbformat_minor": 4
}
