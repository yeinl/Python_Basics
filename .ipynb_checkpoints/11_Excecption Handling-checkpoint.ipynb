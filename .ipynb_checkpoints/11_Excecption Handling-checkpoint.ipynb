{
 "cells": [
  {
   "cell_type": "markdown",
   "metadata": {},
   "source": [
    "# **예외 처리(Exception Handling)**"
   ]
  },
  {
   "cell_type": "markdown",
   "metadata": {},
   "source": [
    "## 목차"
   ]
  },
  {
   "cell_type": "markdown",
   "metadata": {},
   "source": [
    "-   예외(Exception)란?\n",
    "-   예외 처리(Exception Handling)"
   ]
  },
  {
   "cell_type": "markdown",
   "metadata": {},
   "source": [
    "* * *\n"
   ]
  },
  {
   "cell_type": "markdown",
   "metadata": {},
   "source": [
    "## 1. 예외(Exception)란 무엇인가?\n"
   ]
  },
  {
   "cell_type": "markdown",
   "metadata": {},
   "source": [
    "이 섹션에서는 예외가 무엇인지 배우고 그 예를 확인합니다. "
   ]
  },
  {
   "cell_type": "markdown",
   "metadata": {},
   "source": [
    "### 정의\n"
   ]
  },
  {
   "cell_type": "markdown",
   "metadata": {},
   "source": [
    "예외는 코드 실행 중에 발생하는 오류입니다. 이 오류로 인해 코드에서 예외가 발생하고 처리할 준비가 코드에 포함되어 있지 않은 경우 코드 실행이 중지됩니다."
   ]
  },
  {
   "cell_type": "markdown",
   "metadata": {},
   "source": [
    "### 예제\n"
   ]
  },
  {
   "cell_type": "markdown",
   "metadata": {},
   "source": [
    "다음 코드를 실행하고 발생한 예외를 확인하시기 바랍니다. "
   ]
  },
  {
   "cell_type": "code",
   "execution_count": 1,
   "metadata": {},
   "outputs": [
    {
     "ename": "ZeroDivisionError",
     "evalue": "division by zero",
     "output_type": "error",
     "traceback": [
      "\u001b[1;31m---------------------------------------------------------------------------\u001b[0m",
      "\u001b[1;31mZeroDivisionError\u001b[0m                         Traceback (most recent call last)",
      "\u001b[1;32m<ipython-input-1-9e1622b385b6>\u001b[0m in \u001b[0;36m<module>\u001b[1;34m\u001b[0m\n\u001b[1;32m----> 1\u001b[1;33m \u001b[1;36m1\u001b[0m\u001b[1;33m/\u001b[0m\u001b[1;36m0\u001b[0m\u001b[1;33m\u001b[0m\u001b[1;33m\u001b[0m\u001b[0m\n\u001b[0m",
      "\u001b[1;31mZeroDivisionError\u001b[0m: division by zero"
     ]
    }
   ],
   "source": [
    "1/0"
   ]
  },
  {
   "cell_type": "markdown",
   "metadata": {},
   "source": [
    "<code>ZeroDivisionError</code>는 0으로 나누려고 할 때 발생합니다."
   ]
  },
  {
   "cell_type": "code",
   "execution_count": 2,
   "metadata": {},
   "outputs": [
    {
     "ename": "NameError",
     "evalue": "name 'a' is not defined",
     "output_type": "error",
     "traceback": [
      "\u001b[1;31m---------------------------------------------------------------------------\u001b[0m",
      "\u001b[1;31mNameError\u001b[0m                                 Traceback (most recent call last)",
      "\u001b[1;32m<ipython-input-2-6ddcec040107>\u001b[0m in \u001b[0;36m<module>\u001b[1;34m\u001b[0m\n\u001b[1;32m----> 1\u001b[1;33m \u001b[0my\u001b[0m \u001b[1;33m=\u001b[0m \u001b[0ma\u001b[0m \u001b[1;33m+\u001b[0m \u001b[1;36m5\u001b[0m\u001b[1;33m\u001b[0m\u001b[1;33m\u001b[0m\u001b[0m\n\u001b[0m",
      "\u001b[1;31mNameError\u001b[0m: name 'a' is not defined"
     ]
    }
   ],
   "source": [
    "y = a + 5"
   ]
  },
  {
   "cell_type": "markdown",
   "metadata": {},
   "source": [
    "코드 실행시 <code>NameError</code>는 변수 a가 정의되지 않았는 데 사용을 시도했음을 의미합니다."
   ]
  },
  {
   "cell_type": "code",
   "execution_count": 3,
   "metadata": {},
   "outputs": [
    {
     "ename": "IndexError",
     "evalue": "list index out of range",
     "output_type": "error",
     "traceback": [
      "\u001b[1;31m---------------------------------------------------------------------------\u001b[0m",
      "\u001b[1;31mIndexError\u001b[0m                                Traceback (most recent call last)",
      "\u001b[1;32m<ipython-input-3-3f911ca4e3d3>\u001b[0m in \u001b[0;36m<module>\u001b[1;34m\u001b[0m\n\u001b[0;32m      1\u001b[0m \u001b[0ma\u001b[0m \u001b[1;33m=\u001b[0m \u001b[1;33m[\u001b[0m\u001b[1;36m1\u001b[0m\u001b[1;33m,\u001b[0m \u001b[1;36m2\u001b[0m\u001b[1;33m,\u001b[0m \u001b[1;36m3\u001b[0m\u001b[1;33m]\u001b[0m\u001b[1;33m\u001b[0m\u001b[1;33m\u001b[0m\u001b[0m\n\u001b[1;32m----> 2\u001b[1;33m \u001b[0ma\u001b[0m\u001b[1;33m[\u001b[0m\u001b[1;36m10\u001b[0m\u001b[1;33m]\u001b[0m\u001b[1;33m\u001b[0m\u001b[1;33m\u001b[0m\u001b[0m\n\u001b[0m",
      "\u001b[1;31mIndexError\u001b[0m: list index out of range"
     ]
    }
   ],
   "source": [
    "a = [1, 2, 3]\n",
    "a[10]"
   ]
  },
  {
   "cell_type": "markdown",
   "metadata": {},
   "source": [
    "이 경우 <code>IndexError</code>는이 리스트에 존재하지 않는 인덱스를 사용하여 리스트내 데이터에 접근하려고 할 때 발생합니다."
   ]
  },
  {
   "cell_type": "markdown",
   "metadata": {},
   "source": [
    "Python에는 내장된 더 많은 예외가 있습니다. 이 목록을 참조하시기 바랍니다.여기에 그 목록이 있습니다.<br>\n",
    "[https://docs.python.org/3/library/exceptions.html](https://docs.python.org/3/library/exceptions.html?cm_mmc=Email_Newsletter-_-Developer_Ed%2BTech-_-WW_WW-_-SkillsNetwork-Courses-IBMDeveloperSkillsNetwork-PY0101EN-SkillsNetwork-19487395&cm_mmca1=000026UJ&cm_mmca2=10006555&cm_mmca3=M12345678&cvosrc=email.Newsletter.M12345678&cvo_campaign=000026UJ&cm_mmc=Email_Newsletter-_-Developer_Ed%2BTech-_-WW_WW-_-SkillsNetwork-Courses-IBMDeveloperSkillsNetwork-PY0101EN-SkillsNetwork-19487395&cm_mmca1=000026UJ&cm_mmca2=10006555&cm_mmca3=M12345678&cvosrc=email.Newsletter.M12345678&cvo_campaign=000026UJ)\n"
   ]
  },
  {
   "cell_type": "markdown",
   "metadata": {},
   "source": [
    "## 예외 처리(Exception Handling)"
   ]
  },
  {
   "cell_type": "markdown",
   "metadata": {},
   "source": [
    "이 섹션에서는 예외 상황에서도 코드 실행을 중지하지 않고 특정 작업을 수행하기 위한 예외 처리 방법을 배웁니다. "
   ]
  },
  {
   "cell_type": "markdown",
   "metadata": {},
   "source": [
    "### Try Except\n"
   ]
  },
  {
   "cell_type": "markdown",
   "metadata": {},
   "source": [
    "<code>try except</code>를 사용하면 예외를 발생시키는 코드를 실행하게 할 수 있습니다. 모든 예외 또는 특정 예외에 대해 해당 예외 처리를 수행하거나 예외 포착시 특정 코드를 실행하도록 하게 할 수 있습니다. 이를 통해 예외가 벌생해도 프로그램이 중지 안되고 계속 실행되도록 할 수 있습니다.\n",
    "\n",
    "Python은 <code>try</code> 블록의 코드를 실행하고자 합니다. 이 때 <code>try</code> 블록의 코드에 의해 예외가 발생하면, 이를 포착하여 <code>except</code> 블록의 코드가 실행됩니다. 이후 try except 뒤에 오는 코드가 실행됩니다."
   ]
  },
  {
   "cell_type": "code",
   "execution_count": null,
   "metadata": {},
   "outputs": [],
   "source": [
    "# try catch 이전에 위치할 코드들  \n",
    "\n",
    "try:\n",
    "    # 실행하고자 하는 코드들 \n",
    "except:\n",
    "    # 예외 발생시 실행하고자 하는 코드들\n",
    "    \n",
    "# 예외가 발생해도 여전히 실행되어야 할 코드들"
   ]
  },
  {
   "cell_type": "markdown",
   "metadata": {},
   "source": [
    "### Try Except 예제\n"
   ]
  },
  {
   "cell_type": "markdown",
   "metadata": {},
   "source": [
    "이 예에서는 사용자가 제공한 숫자로 나누고 결과를 변수 <code>a</code>에 저장 한 다음 결과를 출력하고자 합니다. 사용자의 입력을 받아 숫자를 나눌 때 몇 가지 예외가 발생할 수 있습니다. 예를 들어, 사용자가 0을 입력하여 변수 <code>b</code>의 값이 0이 되면 0으로 나누는 예외 상황이 발생하게 됩니다. 이러한 예외 상홍은 변수 <code>b</code>가 0 인 경우에만 발생합니다. "
   ]
  },
  {
   "cell_type": "code",
   "execution_count": 4,
   "metadata": {},
   "outputs": [
    {
     "name": "stdin",
     "output_type": "stream",
     "text": [
      "a를 나눌 숫자를 입력하시오 1\n"
     ]
    },
    {
     "name": "stdout",
     "output_type": "stream",
     "text": [
      "성공 a= 1.0\n"
     ]
    }
   ],
   "source": [
    "a = 1\n",
    "\n",
    "try:\n",
    "    b = int(input(\"a를 나눌 숫자를 입력하시오\"))\n",
    "    a = a/b\n",
    "    print(\"성공 a=\",a)\n",
    "except:\n",
    "    print(\"오류가 발생했습니다\")\n",
    "    \n",
    "# print(\"오류가 나도 출력됩니다.\")       \n"
   ]
  },
  {
   "cell_type": "markdown",
   "metadata": {},
   "source": [
    "### 특정 오류 상황을 처리하는 Try Except\n"
   ]
  },
  {
   "cell_type": "markdown",
   "metadata": {},
   "source": [
    "특정 try except를 사용하면 특정 예외를 포착하고 예외에 따라 특정 코드를 실행할 수도 있습니다. 이는 일부 예외를 처리하고 싶지 않고 실행이 중지되어야하는 경우에 유용하며, 알 수 없는 코드에서 오류를 찾는 데 도움이 될 수 있으며 기타 다른 예외에 대한 반응답과 구별되도록 하는 데 도움이 됩니다.  이 경우 try except 이후의 code는 오류에 따라 실행될 수도 실행되지 않을 수도 있습니다. "
   ]
  },
  {
   "cell_type": "markdown",
   "metadata": {},
   "source": [
    "<b>다음 코드는 try except의 구조를 보여주는 것으로 실행하지 마시지 바랍니다. </b>\n"
   ]
  },
  {
   "cell_type": "code",
   "execution_count": null,
   "metadata": {},
   "outputs": [],
   "source": [
    "# try catch 이전에 위치할 코드들 \n",
    "\n",
    "try:\n",
    "    # 실행하고자 하는 코드들\n",
    "except (ZeroDivisionError, NameError):\n",
    "    # 특정 타입의 예외가 발생시 실행하고자 하는 코드\n",
    "    \n",
    "# 예외 상황이 발생하지 않은 경우 실행될 코드, 혹은 예외를 처리한 경우 실행될 코드들 "
   ]
  },
  {
   "cell_type": "code",
   "execution_count": null,
   "metadata": {},
   "outputs": [],
   "source": [
    "# try catch 이전에 위치할 코드들 \n",
    "\n",
    "try:\n",
    "    # 실행하고자 하는 코드들\n",
    "except ZeroDivisionError:\n",
    "    # ZeroDivisionError예외 발생시 실행하고자 하는 코드\n",
    "except NameError:\n",
    "    # NameError 예외 발생시 실행하고자 하는 코드\n",
    "    \n",
    "# 예외 상황이 발생하지 않은 경우 실행될 코드, 혹은 예외를 처리한 경우 실행될 코드들 "
   ]
  },
  {
   "cell_type": "markdown",
   "metadata": {},
   "source": [
    "예기치 않은 예외를 포착하기 위해 맨 마지막 부문에 except를 선언후 code없이 비워둘 수도 있습니다."
   ]
  },
  {
   "cell_type": "markdown",
   "metadata": {},
   "source": [
    "<b>다음 코드는 try except의 구조를 보여주는 것으로 실행하지 마시지 바랍니다. </b>\n"
   ]
  },
  {
   "cell_type": "code",
   "execution_count": null,
   "metadata": {},
   "outputs": [],
   "source": [
    "# try catch 이전에 위치할 코드들 \n",
    "\n",
    "try:\n",
    "    # 실행하고자 하는 코드들\n",
    "except ZeroDivisionError:\n",
    "    # ZeroDivisionError예외 발생시 실행하고자 하는 코드\n",
    "except NameError:\n",
    "    # NameError 예외 발생시 실행하고자 하는 코드\n",
    "except:\n",
    "    # 기타 모든 예외 발생시 실행하고자 하는 코드\n",
    "    \n",
    "# 예외 상황이 발생하지 않은 경우 실행될 코드, 혹은 예외를 처리한 경우 실행될 코드들 "
   ]
  },
  {
   "cell_type": "markdown",
   "metadata": {},
   "source": [
    "### 특정 예외 상황을 처리하는 Try Except 예제\n"
   ]
  },
  {
   "cell_type": "markdown",
   "metadata": {},
   "source": [
    "다음은 위와 동일한 예이지만 이제는 예외에 따라 차별화된 메시지를 추가하여 사용자가 자신이 입력한 것에 어떤 문제가 있는지 알 수 있게 합니다."
   ]
  },
  {
   "cell_type": "code",
   "execution_count": 5,
   "metadata": {},
   "outputs": [
    {
     "name": "stdin",
     "output_type": "stream",
     "text": [
      "a를 나눌 숫자를 입력하세요 1\n"
     ]
    },
    {
     "name": "stdout",
     "output_type": "stream",
     "text": [
      "성공 a= 1.0\n"
     ]
    }
   ],
   "source": [
    "a = 1\n",
    "\n",
    "try:\n",
    "    b = int(input(\"a를 나눌 숫자를 입력하세요\"))\n",
    "    a = a/b\n",
    "    print(\"성공 a=\",a)\n",
    "except ZeroDivisionError:\n",
    "    print(\"입력한 0으로는 1을 나눌 수 없습니다.\")\n",
    "except ValueError:\n",
    "    print(\"숫자를 입력하시기 바랍니다.\")\n",
    "except:\n",
    "    print(\"뭔가 잘못되었습니다.\")\n",
    "            \n"
   ]
  },
  {
   "cell_type": "markdown",
   "metadata": {},
   "source": [
    "### Try Except Else와 Finally\n"
   ]
  },
  {
   "cell_type": "markdown",
   "metadata": {},
   "source": [
    "<code>else</code>는 try 블록을 실행시 예외가 없는지 확인할 수 있도록 합니다. 오류가 없는 경우에만 무언가를 실행하고자 할 때 유용합니다."
   ]
  },
  {
   "cell_type": "markdown",
   "metadata": {},
   "source": [
    "<b>다음 코드는 try except의 구조를 보여주는 것으로 실행하지 마시지 바랍니다. </b>\n"
   ]
  },
  {
   "cell_type": "code",
   "execution_count": null,
   "metadata": {},
   "outputs": [],
   "source": [
    "# try catch 이전에 위치할 코드들 \n",
    "\n",
    "try:\n",
    "    # 실행하고자 하는 코드들\n",
    "except ZeroDivisionError:\n",
    "    # ZeroDivisionError예외 발생시 실행하고자 하는 코드\n",
    "except NameError:\n",
    "    # NameError 예외 발생시 실행하고자 하는 코드\n",
    "except:\n",
    "    # 기타 모든 예외 발생시 실행하고자 하는 코드\n",
    "else:\n",
    "    # 예외 상황이 발생하지 않을 때 실행하고자 하는 코드\n",
    "    \n",
    "# 예외 상황이 발생하지 않은 경우 실행될 코드, 혹은 예외를 처리한 경우 실행될 코드들 "
   ]
  },
  {
   "cell_type": "markdown",
   "metadata": {},
   "source": [
    "<code>finally</code>를 사용하면 예외가 있든 없든 항상 무언가를 실행할 수 있습니다. 이것은 일반적으로 try except의 끝을 알리는 데 사용됩니다."
   ]
  },
  {
   "cell_type": "code",
   "execution_count": null,
   "metadata": {},
   "outputs": [],
   "source": [
    "# try catch 이전에 위치할 코드들 \n",
    "\n",
    "try:\n",
    "    # 실행하고자 하는 코드들\n",
    "except ZeroDivisionError:\n",
    "    # ZeroDivisionError예외 발생시 실행하고자 하는 코드\n",
    "except NameError:\n",
    "    # NameError 예외 발생시 실행하고자 하는 코드\n",
    "except:\n",
    "    # 기타 모든 예외 발생시 실행하고자 하는 코드\n",
    "else:\n",
    "    # 예외 상황이 발생하지 않을 때 실행하고자 하는 코드\n",
    "finally:\n",
    "    # try except의 마지막 부문에서 실행되어야 하는 코드 \n",
    "    \n",
    "# 예외 상황이 발생하지 않은 경우 실행될 코드, 혹은 예외를 처리한 경우 실행될 코드들 "
   ]
  },
  {
   "cell_type": "markdown",
   "metadata": {},
   "source": [
    "### Try Except Else와 Finally예제\n"
   ]
  },
  {
   "cell_type": "markdown",
   "metadata": {},
   "source": [
    "else를 사용하여 오류가 없는 경우에만 a의 값을 인쇄하게 할 수 있습니다."
   ]
  },
  {
   "cell_type": "code",
   "execution_count": 6,
   "metadata": {},
   "outputs": [
    {
     "name": "stdin",
     "output_type": "stream",
     "text": [
      "a를 나눌 숫자를 입력하시오 0\n"
     ]
    },
    {
     "name": "stdout",
     "output_type": "stream",
     "text": [
      "입력한 0으로는 1을 나눌 수 없습니다.\n"
     ]
    }
   ],
   "source": [
    "a = 1\n",
    "\n",
    "try:\n",
    "    b = int(input(\"a를 나눌 숫자를 입력하시오\"))\n",
    "    a = a/b\n",
    "except ZeroDivisionError:\n",
    "    print(\"입력한 0으로는 1을 나눌 수 없습니다.\")\n",
    "except ValueError:\n",
    "    print(\"숫자를 입력하시기 바랍니다.\")\n",
    "except:\n",
    "    print(\"무엇인가 잘못되었습니다.\")\n",
    "else:\n",
    "    print(\"성공 a=\",a)"
   ]
  },
  {
   "cell_type": "markdown",
   "metadata": {},
   "source": [
    "이제 사용자에게 답변 처리가 완료되었음을 알리기 위하여, <code>finally</code>를 사용하여 출력문을 추가할 수 있습니다. "
   ]
  },
  {
   "cell_type": "code",
   "execution_count": 7,
   "metadata": {},
   "outputs": [
    {
     "name": "stdin",
     "output_type": "stream",
     "text": [
      "a를 나눌 숫자를 입력하시오 0\n"
     ]
    },
    {
     "name": "stdout",
     "output_type": "stream",
     "text": [
      "입력한 0으로는 1을 나눌 수 없습니다.\n",
      "처리가 완료되었습니다.\n"
     ]
    }
   ],
   "source": [
    "a = 1\n",
    "\n",
    "try:\n",
    "    b = int(input(\"a를 나눌 숫자를 입력하시오\"))\n",
    "    a = a/b\n",
    "except ZeroDivisionError:\n",
    "    print(\"입력한 0으로는 1을 나눌 수 없습니다.\")\n",
    "except ValueError:\n",
    "    print(\"숫자를 입력하시기 바랍니다.\")\n",
    "except:\n",
    "    print(\"무엇인가 잘못되었습니다.\")\n",
    "else:\n",
    "    print(\"성공 a=\",a)\n",
    "finally:\n",
    "    print(\"처리가 완료되었습니다.\")"
   ]
  },
  {
   "cell_type": "markdown",
   "metadata": {},
   "source": [
    "## 저자\n"
   ]
  },
  {
   "cell_type": "markdown",
   "metadata": {},
   "source": [
    "<a href=\"https://www.linkedin.com/in/joseph-s-50398b136/\" target=\"_blank\">Joseph Santarcangelo</a>\n"
   ]
  },
  {
   "cell_type": "markdown",
   "metadata": {},
   "source": [
    "## 변경 로그\n",
    "\n",
    "| Date (YYYY-MM-DD) | Version | Changed By | Change Description           |\n",
    "| ----------------- | ------- | ---------- | ---------------------------- |\n",
    "| 2020-09-02        | 2.0     | Simran     | Template updates to the file |\n",
    "|                   |         |            |                              |\n",
    "|                   |         |            |                              |\n",
    "\n",
    "## <h3 align=\"center\"> © IBM Corporation 2020. All rights reserved. <h3/>\n"
   ]
  }
 ],
 "metadata": {
  "kernelspec": {
   "display_name": "Python 3",
   "language": "python",
   "name": "python3"
  },
  "language_info": {
   "codemirror_mode": {
    "name": "ipython",
    "version": 3
   },
   "file_extension": ".py",
   "mimetype": "text/x-python",
   "name": "python",
   "nbconvert_exporter": "python",
   "pygments_lexer": "ipython3",
   "version": "3.8.5"
  }
 },
 "nbformat": 4,
 "nbformat_minor": 4
}
